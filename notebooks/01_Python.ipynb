{
  "nbformat": 4,
  "nbformat_minor": 0,
  "metadata": {
    "colab": {
      "name": "01_Python",
      "provenance": [],
      "collapsed_sections": [],
      "toc_visible": true
    },
    "kernelspec": {
      "name": "python3",
      "display_name": "Python 3"
    }
  },
  "cells": [
    {
      "cell_type": "markdown",
      "metadata": {
        "id": "pY8iWjayaC22",
        "colab_type": "text"
      },
      "source": [
        "<a href=\"https://practicalai.me\"><img src=\"https://raw.githubusercontent.com/practicalAI/images/master/images/rounded_logo.png\" width=\"100\" align=\"left\" hspace=\"20px\" vspace=\"20px\"></a>\n",
        "\n",
        "<img src=\"https://raw.githubusercontent.com/practicalAI/images/master/images/01_Python/python.png\" width=\"250\" vspace=\"30px\" align=\"right\">\n",
        "\n",
        "<div align=\"left\">\n",
        "<h1>Introduction to Python</h1>\n",
        "\n",
        "In this lesson we will learn the basics of the Python programming language. We won't learn everything about Python but enough to do some basic machine learning. We'll learn more in future lessons!\n",
        "</div>"
      ]
    },
    {
      "cell_type": "markdown",
      "metadata": {
        "id": "gN-UI0ZUd0Xt",
        "colab_type": "text"
      },
      "source": [
        "<table align=\"center\">\n",
        "  <td>\n",
        "<img src=\"https://raw.githubusercontent.com/practicalAI/images/master/images/rounded_logo.png\" width=\"25\"><a target=\"_blank\" href=\"https://practicalai.me\"> View on practicalAI</a>\n",
        "  </td>\n",
        "  <td>\n",
        "<img src=\"https://raw.githubusercontent.com/practicalAI/images/master/images/colab_logo.png\" width=\"25\"><a target=\"_blank\" href=\"https://colab.research.google.com/github/practicalAI/practicalAI/blob/master/notebooks/01_Python.ipynb\"> Run in Google Colab</a>\n",
        "  </td>\n",
        "  <td>\n",
        "<img src=\"https://raw.githubusercontent.com/practicalAI/images/master/images/github_logo.png\" width=\"22\"><a target=\"_blank\" href=\"https://github.com/practicalAI/practicalAI/blob/master/notebooks/01_Python.ipynb\"> View code on GitHub</a>\n",
        "  </td>\n",
        "</table>"
      ]
    },
    {
      "cell_type": "markdown",
      "metadata": {
        "id": "VoMq0eFRvugb",
        "colab_type": "text"
      },
      "source": [
        "#  Variables"
      ]
    },
    {
      "cell_type": "markdown",
      "metadata": {
        "id": "qWro5T5qTJJL",
        "colab_type": "text"
      },
      "source": [
        "Variables are containers for holding data and they're defined by a name and value.\n",
        "\n",
        "<div align=\"left\">\n",
        "<img src=\"https://raw.githubusercontent.com/practicalAI/images/master/images/01_Python/variables.png\" width=\"220\">\n",
        "</div>"
      ]
    },
    {
      "cell_type": "code",
      "metadata": {
        "id": "0-dXQiLlTIgz",
        "colab_type": "code",
        "outputId": "4f4d09b6-8a9f-492f-e892-f0dfa7cf9093",
        "colab": {
          "base_uri": "https://localhost:8080/",
          "height": 51
        }
      },
      "source": [
        "# Integer variable\n",
        "x = 5\n",
        "print (x)\n",
        "print (type(x))\n"
      ],
      "execution_count": 0,
      "outputs": [
        {
          "output_type": "stream",
          "text": [
            "5\n",
            "<class 'int'>\n"
          ],
          "name": "stdout"
        }
      ]
    },
    {
      "cell_type": "markdown",
      "metadata": {
        "id": "LDAdgPSCyMbN",
        "colab_type": "text"
      },
      "source": [
        "We can change the value of a variable by just assigning a new value to it."
      ]
    },
    {
      "cell_type": "code",
      "metadata": {
        "id": "5Ym0owFxTkjo",
        "colab_type": "code",
        "outputId": "83d8f15c-f918-4a2d-d566-a3baa8c8757d",
        "colab": {
          "base_uri": "https://localhost:8080/",
          "height": 51
        }
      },
      "source": [
        "# String variable\n",
        "x = \"hello\"\n",
        "print (x)\n",
        "print (type(x))"
      ],
      "execution_count": 0,
      "outputs": [
        {
          "output_type": "stream",
          "text": [
            "hello\n",
            "<class 'str'>\n"
          ],
          "name": "stdout"
        }
      ]
    },
    {
      "cell_type": "markdown",
      "metadata": {
        "colab_type": "text",
        "id": "Lsq_c_AhEzZN"
      },
      "source": [
        "There are many different types of variables: integers, floats, strings, boolean etc."
      ]
    },
    {
      "cell_type": "code",
      "metadata": {
        "colab_type": "code",
        "outputId": "1ac17c68-f087-419d-92f7-3ca807b77cca",
        "id": "m4kAmbD9EzHz",
        "colab": {
          "base_uri": "https://localhost:8080/",
          "height": 34
        }
      },
      "source": [
        "# int variable\n",
        "x = 5\n",
        "print (x, type(x))"
      ],
      "execution_count": 0,
      "outputs": [
        {
          "output_type": "stream",
          "text": [
            "5 <class 'int'>\n"
          ],
          "name": "stdout"
        }
      ]
    },
    {
      "cell_type": "code",
      "metadata": {
        "colab_type": "code",
        "outputId": "37327b70-30f1-44f3-eba6-3fe57321f354",
        "id": "gb9BzIoOEy6A",
        "colab": {
          "base_uri": "https://localhost:8080/",
          "height": 34
        }
      },
      "source": [
        "# float variable\n",
        "x = 5.0\n",
        "print (x, type(x))"
      ],
      "execution_count": 0,
      "outputs": [
        {
          "output_type": "stream",
          "text": [
            "5.0 <class 'float'>\n"
          ],
          "name": "stdout"
        }
      ]
    },
    {
      "cell_type": "code",
      "metadata": {
        "colab_type": "code",
        "outputId": "3df8e821-e0e5-4d49-d4b8-c18f9f047291",
        "id": "RkqP-eraEytN",
        "colab": {
          "base_uri": "https://localhost:8080/",
          "height": 34
        }
      },
      "source": [
        "# text variable\n",
        "x = \"5\" \n",
        "print (x, type(x))"
      ],
      "execution_count": 0,
      "outputs": [
        {
          "output_type": "stream",
          "text": [
            "5 <class 'str'>\n"
          ],
          "name": "stdout"
        }
      ]
    },
    {
      "cell_type": "code",
      "metadata": {
        "colab_type": "code",
        "outputId": "4adf4870-b794-4aaf-b22b-46b15332140e",
        "id": "ws4HSsJpEyfL",
        "colab": {
          "base_uri": "https://localhost:8080/",
          "height": 34
        }
      },
      "source": [
        "# boolean variable\n",
        "x = True\n",
        "print (x, type(x))"
      ],
      "execution_count": 0,
      "outputs": [
        {
          "output_type": "stream",
          "text": [
            "True <class 'bool'>\n"
          ],
          "name": "stdout"
        }
      ]
    },
    {
      "cell_type": "markdown",
      "metadata": {
        "id": "EWOmrbiDybhF",
        "colab_type": "text"
      },
      "source": [
        "We can also do operations with variables."
      ]
    },
    {
      "cell_type": "code",
      "metadata": {
        "id": "1a4ZhMV1T1-0",
        "colab_type": "code",
        "outputId": "6d7ee2bf-b102-4372-e942-8f6a6d1782a2",
        "colab": {
          "base_uri": "https://localhost:8080/",
          "height": 34
        }
      },
      "source": [
        "# Variables can be used with each other\n",
        "a = 1\n",
        "b = 2\n",
        "c = a + b\n",
        "print (c)"
      ],
      "execution_count": 0,
      "outputs": [
        {
          "output_type": "stream",
          "text": [
            "3\n"
          ],
          "name": "stdout"
        }
      ]
    },
    {
      "cell_type": "markdown",
      "metadata": {
        "id": "6HPtavfdU8Ut",
        "colab_type": "text"
      },
      "source": [
        "We should always know what types of variables you're dealing with so we can do the right operations with them. Here's a common mistake that can happen with seamingly very similar variables but of different types (int vs. string)."
      ]
    },
    {
      "cell_type": "code",
      "metadata": {
        "id": "8pr1-i7IVD-h",
        "colab_type": "code",
        "outputId": "2e7628d0-5a0e-4789-e96c-5546867ece4d",
        "colab": {
          "base_uri": "https://localhost:8080/",
          "height": 34
        }
      },
      "source": [
        "# int variables\n",
        "a = 5\n",
        "b = 3\n",
        "print (a + b)"
      ],
      "execution_count": 0,
      "outputs": [
        {
          "output_type": "stream",
          "text": [
            "8\n"
          ],
          "name": "stdout"
        }
      ]
    },
    {
      "cell_type": "code",
      "metadata": {
        "id": "A9u0Mtke5xkk",
        "colab_type": "code",
        "outputId": "ba5e9601-af01-44a0-dbd1-1a3dbc9d8c49",
        "colab": {
          "base_uri": "https://localhost:8080/",
          "height": 34
        }
      },
      "source": [
        "# string variables\n",
        "a = \"5\"\n",
        "b = \"3\"\n",
        "print (a + b)"
      ],
      "execution_count": 0,
      "outputs": [
        {
          "output_type": "stream",
          "text": [
            "53\n"
          ],
          "name": "stdout"
        }
      ]
    },
    {
      "cell_type": "markdown",
      "metadata": {
        "id": "q4R_UF6PVw4V",
        "colab_type": "text"
      },
      "source": [
        "#  Lists"
      ]
    },
    {
      "cell_type": "markdown",
      "metadata": {
        "id": "LvGsQBj4VjMl",
        "colab_type": "text"
      },
      "source": [
        "Lists are an ordered, mutable (changeable) collection of values that are *comma separated* and encapsulated by *square brackets*. A list can be comprised of many different types of variables (below is a list with a integer, string and a float).\n",
        "\n",
        "<div align=\"left\">\n",
        "<img src=\"https://raw.githubusercontent.com/practicalAI/images/master/images/01_Python/lists.png\" width=\"300\">\n",
        "</div>"
      ]
    },
    {
      "cell_type": "code",
      "metadata": {
        "id": "9iPESkq9VvlX",
        "colab_type": "code",
        "outputId": "ae0f87b1-192f-4d4e-eb6f-02eaa1da8b4b",
        "colab": {
          "base_uri": "https://localhost:8080/",
          "height": 34
        }
      },
      "source": [
        "# Creating a list\n",
        "x = [3, \"hello\", 1.2]\n",
        "print (x)"
      ],
      "execution_count": 0,
      "outputs": [
        {
          "output_type": "stream",
          "text": [
            "[3, 'hello', 1.2]\n"
          ],
          "name": "stdout"
        }
      ]
    },
    {
      "cell_type": "code",
      "metadata": {
        "id": "esDwOfutKtBf",
        "colab_type": "code",
        "outputId": "b7f06213-c25e-4683-88b2-0de8bd117a39",
        "colab": {
          "base_uri": "https://localhost:8080/",
          "height": 34
        }
      },
      "source": [
        "# Length of a list\n",
        "len(x)"
      ],
      "execution_count": 0,
      "outputs": [
        {
          "output_type": "execute_result",
          "data": {
            "text/plain": [
              "3"
            ]
          },
          "metadata": {
            "tags": []
          },
          "execution_count": 4
        }
      ]
    },
    {
      "cell_type": "markdown",
      "metadata": {
        "id": "0xC6WvuwbGDg",
        "colab_type": "text"
      },
      "source": [
        "You can add to a list by using the **append** function."
      ]
    },
    {
      "cell_type": "code",
      "metadata": {
        "id": "7lbajc-zV515",
        "colab_type": "code",
        "outputId": "e9628748-a648-4b1a-e2ca-32a48a07c4e6",
        "colab": {
          "base_uri": "https://localhost:8080/",
          "height": 51
        }
      },
      "source": [
        "# Adding to a list\n",
        "x.append(7)\n",
        "print (x)\n",
        "print (len(x))"
      ],
      "execution_count": 0,
      "outputs": [
        {
          "output_type": "stream",
          "text": [
            "[3, 'hello', 1.2, 7]\n",
            "4\n"
          ],
          "name": "stdout"
        }
      ]
    },
    {
      "cell_type": "code",
      "metadata": {
        "id": "TjVjmiSIK1YA",
        "colab_type": "code",
        "outputId": "63781614-a2f4-4989-8cf5-8675f0cadc0a",
        "colab": {
          "base_uri": "https://localhost:8080/",
          "height": 34
        }
      },
      "source": [
        "# Replacing items in a list\n",
        "x[1] = \"bye\"\n",
        "print (x)"
      ],
      "execution_count": 0,
      "outputs": [
        {
          "output_type": "stream",
          "text": [
            "[3, 'bye', 1.2, 7]\n"
          ],
          "name": "stdout"
        }
      ]
    },
    {
      "cell_type": "code",
      "metadata": {
        "id": "tNLaysG6K6E9",
        "colab_type": "code",
        "outputId": "5aaf5a1d-efc4-4a88-f526-9f48f83eae9f",
        "colab": {
          "base_uri": "https://localhost:8080/",
          "height": 34
        }
      },
      "source": [
        "# Operations\n",
        "y = [2.4, \"world\"]\n",
        "z = x + y\n",
        "print (z)"
      ],
      "execution_count": 0,
      "outputs": [
        {
          "output_type": "stream",
          "text": [
            "[3, 'bye', 1.2, 7, 2.4, 'world']\n"
          ],
          "name": "stdout"
        }
      ]
    },
    {
      "cell_type": "markdown",
      "metadata": {
        "id": "M7mQpE7dtpX6",
        "colab_type": "text"
      },
      "source": [
        "### Indexing and Slicing"
      ]
    },
    {
      "cell_type": "markdown",
      "metadata": {
        "id": "wJqJM2Q13TwE",
        "colab_type": "text"
      },
      "source": [
        "Indexing and slicing from lists allow us to retrieve specific values within lists. Note that indices can be positive (starting from 0) or negative (-1 and lower where -1 is the last item in the list).\n",
        "\n",
        "<div align=\"left\">\n",
        "<img src=\"https://raw.githubusercontent.com/practicalAI/images/master/images/01_Python/indexing.png\" width=\"300\">\n",
        "</div>"
      ]
    },
    {
      "cell_type": "code",
      "metadata": {
        "id": "W0xpIryJWCN9",
        "colab_type": "code",
        "outputId": "e6c5f3cb-a265-40fd-ae18-f44cafae6fa2",
        "colab": {
          "base_uri": "https://localhost:8080/",
          "height": 85
        }
      },
      "source": [
        "# Indexing\n",
        "print (\"x[0]: \", x[0])\n",
        "print (\"x[1]: \", x[1])\n",
        "print (\"x[-1]: \", x[-1]) # the last item\n",
        "print (\"x[-2]: \", x[-2]) # the second to last item"
      ],
      "execution_count": 0,
      "outputs": [
        {
          "output_type": "stream",
          "text": [
            "x[0]:  3\n",
            "x[1]:  bye\n",
            "x[-1]:  7\n",
            "x[-2]:  1.2\n"
          ],
          "name": "stdout"
        }
      ]
    },
    {
      "cell_type": "code",
      "metadata": {
        "id": "VSu_HNrnc1WK",
        "colab_type": "code",
        "outputId": "53569425-3f06-4cf0-dc30-97063cdcc4c7",
        "colab": {
          "base_uri": "https://localhost:8080/",
          "height": 85
        }
      },
      "source": [
        "# Slicing\n",
        "print (\"x[:]: \", x[:]) # : means to the end\n",
        "print (\"x[2:]: \", x[2:]) # 2nd index to the end\n",
        "print (\"x[1:3]: \", x[1:3]) # 1st index to 3rd index but including the 3rd index\n",
        "print (\"x[:-2]: \", x[:-2]) # 0th index to two from the last index"
      ],
      "execution_count": 0,
      "outputs": [
        {
          "output_type": "stream",
          "text": [
            "x[:]:  [3, 'bye', 1.2, 7]\n",
            "x[2:]:  [1.2, 7]\n",
            "x[1:3]:  ['bye', 1.2]\n",
            "x[:-2]:  [3, 'bye']\n"
          ],
          "name": "stdout"
        }
      ]
    },
    {
      "cell_type": "markdown",
      "metadata": {
        "id": "ddpIO6LLVzh0",
        "colab_type": "text"
      },
      "source": [
        "# Tuples"
      ]
    },
    {
      "cell_type": "markdown",
      "metadata": {
        "id": "CAZblq7oXY3s",
        "colab_type": "text"
      },
      "source": [
        "Tuples are collections that are ordered and immutable (unchangeable). You will use these to store values that will never be changed."
      ]
    },
    {
      "cell_type": "code",
      "metadata": {
        "id": "G95lu8xWXY90",
        "colab_type": "code",
        "outputId": "d9f05929-11fe-4f2f-f718-632a41a1b644",
        "colab": {
          "base_uri": "https://localhost:8080/",
          "height": 34
        }
      },
      "source": [
        "# Creating a tuple\n",
        "x = (3.0, \"hello\") # tuples start and end with ()\n",
        "print (x)"
      ],
      "execution_count": 0,
      "outputs": [
        {
          "output_type": "stream",
          "text": [
            "(3.0, 'hello')\n"
          ],
          "name": "stdout"
        }
      ]
    },
    {
      "cell_type": "code",
      "metadata": {
        "id": "kq23Bej1acAP",
        "colab_type": "code",
        "outputId": "3849a411-6134-4977-c739-2c43330e8200",
        "colab": {
          "base_uri": "https://localhost:8080/",
          "height": 34
        }
      },
      "source": [
        "# Adding values to a tuple\n",
        "x = x + (5.6, 4)\n",
        "print (x)"
      ],
      "execution_count": 0,
      "outputs": [
        {
          "output_type": "stream",
          "text": [
            "(3.0, 'hello', 5.6, 4)\n"
          ],
          "name": "stdout"
        }
      ]
    },
    {
      "cell_type": "code",
      "metadata": {
        "id": "-o-tW98FLffc",
        "colab_type": "code",
        "colab": {}
      },
      "source": [
        "# Try to change (it won't work and you'll get an error)\n",
        "x[0] = 1.2"
      ],
      "execution_count": 0,
      "outputs": []
    },
    {
      "cell_type": "markdown",
      "metadata": {
        "id": "UdlJHkwZV3Mz",
        "colab_type": "text"
      },
      "source": [
        "# Dictionaries"
      ]
    },
    {
      "cell_type": "markdown",
      "metadata": {
        "id": "azp3AoxYXS26",
        "colab_type": "text"
      },
      "source": [
        "Dictionaries are an unordered, mutable and indexed collection of key-value pairs. You can retrieve values based on the key and a dictionary cannot have two of the same keys. \n",
        "\n",
        "<div align=\"left\">\n",
        "<img src=\"https://raw.githubusercontent.com/practicalAI/images/master/images/01_Python/dictionaries.png\" width=\"320\">\n",
        "</div>"
      ]
    },
    {
      "cell_type": "code",
      "metadata": {
        "id": "pXhNLbzpXXSk",
        "colab_type": "code",
        "outputId": "dcca3988-24be-436d-fa88-0f4427d9104b",
        "colab": {
          "base_uri": "https://localhost:8080/",
          "height": 68
        }
      },
      "source": [
        "# Creating a dictionary\n",
        "person = {'name': 'Goku',\n",
        "          'eye_color': 'brown'}\n",
        "print (person)\n",
        "print (person['name'])\n",
        "print (person['eye_color'])"
      ],
      "execution_count": 0,
      "outputs": [
        {
          "output_type": "stream",
          "text": [
            "{'name': 'Goku', 'eye_color': 'brown'}\n",
            "Goku\n",
            "brown\n"
          ],
          "name": "stdout"
        }
      ]
    },
    {
      "cell_type": "code",
      "metadata": {
        "id": "1HXtX8vQYjXa",
        "colab_type": "code",
        "outputId": "9a51b2f9-a517-46e5-9525-b8d26c2318af",
        "colab": {
          "base_uri": "https://localhost:8080/",
          "height": 34
        }
      },
      "source": [
        "# Changing the value for a key\n",
        "person['eye_color'] = 'green'\n",
        "print (person)"
      ],
      "execution_count": 0,
      "outputs": [
        {
          "output_type": "stream",
          "text": [
            "{'name': 'Goku', 'eye_color': 'green'}\n"
          ],
          "name": "stdout"
        }
      ]
    },
    {
      "cell_type": "code",
      "metadata": {
        "id": "qn33iB0MY5dT",
        "colab_type": "code",
        "outputId": "bf09a311-0379-4fc0-ad1d-ef5a083674ee",
        "colab": {
          "base_uri": "https://localhost:8080/",
          "height": 34
        }
      },
      "source": [
        "# Adding new key-value pairs\n",
        "person['age'] = 24\n",
        "print (person)"
      ],
      "execution_count": 0,
      "outputs": [
        {
          "output_type": "stream",
          "text": [
            "{'name': 'Goku', 'eye_color': 'green', 'age': 24}\n"
          ],
          "name": "stdout"
        }
      ]
    },
    {
      "cell_type": "code",
      "metadata": {
        "id": "g9EYmzMKa9YV",
        "colab_type": "code",
        "outputId": "ba4b4c4d-def1-4a69-99dd-edf69e32c5a8",
        "colab": {
          "base_uri": "https://localhost:8080/",
          "height": 34
        }
      },
      "source": [
        "# Length of a dictionary\n",
        "print (len(person))"
      ],
      "execution_count": 0,
      "outputs": [
        {
          "output_type": "stream",
          "text": [
            "3\n"
          ],
          "name": "stdout"
        }
      ]
    },
    {
      "cell_type": "markdown",
      "metadata": {
        "id": "B-DInx_Xo2vJ",
        "colab_type": "text"
      },
      "source": [
        "# If statements"
      ]
    },
    {
      "cell_type": "markdown",
      "metadata": {
        "id": "ZG_ICGRGo4tY",
        "colab_type": "text"
      },
      "source": [
        "We can use `if` statements to conditionally do something. The conditions are defined by the words `if`, `elif` (which stands for else if) and `else`. We can have as many `elif` statements as we want. The indented code below each condition is the code that will execute if the condition is `True`.\n",
        "\n",
        "<div align=\"left\">\n",
        "<img src=\"https://raw.githubusercontent.com/practicalAI/images/master/images/01_Python/if.png\" width=\"600\">\n",
        "</div>"
      ]
    },
    {
      "cell_type": "code",
      "metadata": {
        "id": "uob9lQuKo4Pg",
        "colab_type": "code",
        "outputId": "f11e98cf-e02c-4713-ecaf-3a5c49b9a5a2",
        "colab": {
          "base_uri": "https://localhost:8080/",
          "height": 34
        }
      },
      "source": [
        "# If statement\n",
        "x = 4\n",
        "if x < 1:\n",
        "    score = 'low'\n",
        "elif x <= 4: # elif = else if\n",
        "    score = 'medium'\n",
        "else:\n",
        "    score = 'high'\n",
        "print (score)"
      ],
      "execution_count": 0,
      "outputs": [
        {
          "output_type": "stream",
          "text": [
            "medium\n"
          ],
          "name": "stdout"
        }
      ]
    },
    {
      "cell_type": "code",
      "metadata": {
        "id": "vwsQaZqIpfJ3",
        "colab_type": "code",
        "outputId": "654b8da9-46f4-45e4-f0ba-b8bd4014b37e",
        "colab": {
          "base_uri": "https://localhost:8080/",
          "height": 34
        }
      },
      "source": [
        "# If statment with a boolean\n",
        "x = True\n",
        "if x:\n",
        "    print (\"it worked\")"
      ],
      "execution_count": 0,
      "outputs": [
        {
          "output_type": "stream",
          "text": [
            "it worked\n"
          ],
          "name": "stdout"
        }
      ]
    },
    {
      "cell_type": "markdown",
      "metadata": {
        "id": "sJ7NPGEKV6Ik",
        "colab_type": "text"
      },
      "source": [
        "# Loops"
      ]
    },
    {
      "cell_type": "markdown",
      "metadata": {
        "id": "cRgqRyfITuEC",
        "colab_type": "text"
      },
      "source": [
        "### For Loops"
      ]
    },
    {
      "cell_type": "markdown",
      "metadata": {
        "id": "YRVxhVCkn0vc",
        "colab_type": "text"
      },
      "source": [
        "A `for` loop can iterate over a collection of values (lists, tuples, dictionarys, etc.) The indented code is what's execute for item in the collection of values."
      ]
    },
    {
      "cell_type": "code",
      "metadata": {
        "id": "OB5PtyqAn8mj",
        "colab_type": "code",
        "outputId": "5695aa18-6754-46a4-8201-6df3b803c71f",
        "colab": {
          "base_uri": "https://localhost:8080/",
          "height": 68
        }
      },
      "source": [
        "# For loop\n",
        "veggies = [\"carrots\", \"broccoli\", \"beans\"]\n",
        "for veggie in veggies:\n",
        "    print (veggie)"
      ],
      "execution_count": 0,
      "outputs": [
        {
          "output_type": "stream",
          "text": [
            "carrots\n",
            "broccoli\n",
            "beans\n"
          ],
          "name": "stdout"
        }
      ]
    },
    {
      "cell_type": "markdown",
      "metadata": {
        "id": "PQc56LtEDuX2",
        "colab_type": "text"
      },
      "source": [
        "When the loop encounters the `break` command, the loop will terminate immediately. If there were more items in the list, they will not be processed."
      ]
    },
    {
      "cell_type": "code",
      "metadata": {
        "id": "6XyhCrFeoGj4",
        "colab_type": "code",
        "outputId": "8f068a5e-bf90-482f-f32e-8e787f2bcb5b",
        "colab": {
          "base_uri": "https://localhost:8080/",
          "height": 34
        }
      },
      "source": [
        "# `break` from a for loop\n",
        "veggies = [\"carrots\", \"broccoli\", \"beans\"]\n",
        "for veggie in veggies:\n",
        "    if veggie == \"broccoli\":\n",
        "        break\n",
        "    print (veggie)"
      ],
      "execution_count": 0,
      "outputs": [
        {
          "output_type": "stream",
          "text": [
            "carrots\n"
          ],
          "name": "stdout"
        }
      ]
    },
    {
      "cell_type": "markdown",
      "metadata": {
        "id": "O_0-vSSuEAqU",
        "colab_type": "text"
      },
      "source": [
        "When the loop encounters the `continue` command, the loop will skip all other operations for that item in the list only. If there were more items in the list, the loop will continue normally."
      ]
    },
    {
      "cell_type": "code",
      "metadata": {
        "id": "KJvlfYs8QbQZ",
        "colab_type": "code",
        "outputId": "d5aafb4e-bd05-4b48-abd8-6a4688bfd047",
        "colab": {
          "base_uri": "https://localhost:8080/",
          "height": 51
        }
      },
      "source": [
        "# `continue` to the next iteration\n",
        "veggies = [\"carrots\", \"broccoli\", \"beans\"]\n",
        "for veggie in veggies:\n",
        "    if veggie == \"broccoli\":\n",
        "        continue\n",
        "    print (veggie)"
      ],
      "execution_count": 0,
      "outputs": [
        {
          "output_type": "stream",
          "text": [
            "carrots\n",
            "beans\n"
          ],
          "name": "stdout"
        }
      ]
    },
    {
      "cell_type": "markdown",
      "metadata": {
        "id": "VAbnASi2TwZ9",
        "colab_type": "text"
      },
      "source": [
        "### While Loops"
      ]
    },
    {
      "cell_type": "markdown",
      "metadata": {
        "id": "nuHAyQdr_jUa",
        "colab_type": "text"
      },
      "source": [
        "A `while` loop can perform repeatedly as long as a condition is `True`."
      ]
    },
    {
      "cell_type": "code",
      "metadata": {
        "id": "5Tf2x4okp3fH",
        "colab_type": "code",
        "outputId": "10ee9f19-c63c-4a25-aa21-945de0d22d30",
        "colab": {
          "base_uri": "https://localhost:8080/",
          "height": 68
        }
      },
      "source": [
        "# While loop\n",
        "x = 3\n",
        "while x > 0:\n",
        "    x -= 1 # same as x = x - 1\n",
        "    print (x)"
      ],
      "execution_count": 0,
      "outputs": [
        {
          "output_type": "stream",
          "text": [
            "2\n",
            "1\n",
            "0\n"
          ],
          "name": "stdout"
        }
      ]
    },
    {
      "cell_type": "markdown",
      "metadata": {
        "id": "gJw-EDO9WBL_",
        "colab_type": "text"
      },
      "source": [
        "# Functions"
      ]
    },
    {
      "cell_type": "markdown",
      "metadata": {
        "id": "hDIOUdWCqBwa",
        "colab_type": "text"
      },
      "source": [
        "Functions are a way to modularize reusable pieces of code. They're defined by the keyword `def` which stands for definition and they can have the following components.\n",
        "\n",
        "<div align=\"left\">\n",
        "<img src=\"https://raw.githubusercontent.com/practicalAI/images/master/images/01_Python/define_function.png\" width=\"350\">\n",
        "</div>"
      ]
    },
    {
      "cell_type": "code",
      "metadata": {
        "id": "iin1ZXmMqA0y",
        "colab_type": "code",
        "colab": {}
      },
      "source": [
        "# Define the function\n",
        "def add_two(x):\n",
        "    \"\"\"Increase x by 2.\"\"\"\n",
        "    x += 2\n",
        "    return x"
      ],
      "execution_count": 0,
      "outputs": []
    },
    {
      "cell_type": "markdown",
      "metadata": {
        "id": "OIf2dJ8RGj8l",
        "colab_type": "text"
      },
      "source": [
        "Here are the components that may be required when we want to use the function:\n",
        "\n",
        "<div align=\"left\">\n",
        "<img src=\"https://raw.githubusercontent.com/practicalAI/images/master/images/01_Python/use_function.png\" width=\"350\">\n",
        "</div>"
      ]
    },
    {
      "cell_type": "code",
      "metadata": {
        "id": "4ye1A5FobAUd",
        "colab_type": "code",
        "outputId": "4a2a192c-641d-41b6-e9d5-2c8e7a2bc8ba",
        "colab": {
          "base_uri": "https://localhost:8080/",
          "height": 34
        }
      },
      "source": [
        "# Use the function\n",
        "score = 0\n",
        "new_score = add_two(x=score)\n",
        "print (new_score)"
      ],
      "execution_count": 0,
      "outputs": [
        {
          "output_type": "stream",
          "text": [
            "2\n"
          ],
          "name": "stdout"
        }
      ]
    },
    {
      "cell_type": "code",
      "metadata": {
        "id": "DC6x3DMrqlE3",
        "colab_type": "code",
        "colab": {}
      },
      "source": [
        "# Function with multiple inputs\n",
        "def join_name(first_name, last_name):\n",
        "    \"\"\"Combine first name and last name.\"\"\"\n",
        "    joined_name = first_name + \" \" + last_name\n",
        "    return joined_name"
      ],
      "execution_count": 0,
      "outputs": []
    },
    {
      "cell_type": "code",
      "metadata": {
        "id": "ehc8bNoGbBt8",
        "colab_type": "code",
        "outputId": "8349617c-87fb-4fe3-9c3d-8b733c6663d1",
        "colab": {
          "base_uri": "https://localhost:8080/",
          "height": 34
        }
      },
      "source": [
        "# Use the function\n",
        "first_name = \"Goku\"\n",
        "last_name = \"Mohandas\"\n",
        "joined_name = join_name(first_name=first_name, \n",
        "                        last_name=last_name)\n",
        "print (joined_name)"
      ],
      "execution_count": 0,
      "outputs": [
        {
          "output_type": "stream",
          "text": [
            "Goku Mohandas\n"
          ],
          "name": "stdout"
        }
      ]
    },
    {
      "cell_type": "markdown",
      "metadata": {
        "id": "lBLa1n54WEd2",
        "colab_type": "text"
      },
      "source": [
        "# Classes"
      ]
    },
    {
      "cell_type": "markdown",
      "metadata": {
        "id": "mGua8QnArAZh",
        "colab_type": "text"
      },
      "source": [
        "Classes are object constructors and are a fundamental component of object oriented programming in Python. They are composed of a set of functions that define the class and it's operations.\n",
        "\n",
        "<div align=\"left\">\n",
        "<img src=\"https://raw.githubusercontent.com/practicalAI/images/master/images/01_Python/classes.png\" width=\"500\">\n",
        "</div>"
      ]
    },
    {
      "cell_type": "markdown",
      "metadata": {
        "id": "CypuBBQyRv8s",
        "colab_type": "text"
      },
      "source": [
        "### `__init__()` function"
      ]
    },
    {
      "cell_type": "markdown",
      "metadata": {
        "id": "Hrx2bKTXR4E3",
        "colab_type": "text"
      },
      "source": [
        "The `init` function is used when the class is initialized. "
      ]
    },
    {
      "cell_type": "code",
      "metadata": {
        "id": "DXmPwI1frAAd",
        "colab_type": "code",
        "colab": {}
      },
      "source": [
        "# Creating the class\n",
        "class Pet(object):\n",
        "    \"\"\"Class object for a pet.\"\"\"\n",
        "  \n",
        "    def __init__(self, species, name):\n",
        "        \"\"\"Initialize a Pet.\"\"\"\n",
        "        self.species = species\n",
        "        self.name = name"
      ],
      "execution_count": 0,
      "outputs": []
    },
    {
      "cell_type": "code",
      "metadata": {
        "id": "j5F4XmFQSfVr",
        "colab_type": "code",
        "outputId": "a0877f8c-7654-4f19-e34a-e38306c73fbe",
        "colab": {
          "base_uri": "https://localhost:8080/",
          "height": 51
        }
      },
      "source": [
        "# Creating an instance of a class\n",
        "my_dog = Pet(species=\"dog\", \n",
        "             name=\"Scooby\")\n",
        "print (my_dog)\n",
        "print (my_dog.name)"
      ],
      "execution_count": 0,
      "outputs": [
        {
          "output_type": "stream",
          "text": [
            "<__main__.Pet object at 0x7f468e115080>\n",
            "Scooby\n"
          ],
          "name": "stdout"
        }
      ]
    },
    {
      "cell_type": "markdown",
      "metadata": {
        "id": "6ZVfBXNISUBR",
        "colab_type": "text"
      },
      "source": [
        "### `__str()__` function"
      ]
    },
    {
      "cell_type": "markdown",
      "metadata": {
        "id": "8q6oiWHQSqOo",
        "colab_type": "text"
      },
      "source": [
        "The `print (my_dog)` command printed something not so relevant to us. Let's fix that with the `__str()__` function."
      ]
    },
    {
      "cell_type": "code",
      "metadata": {
        "id": "N1_RDVo9Ruhf",
        "colab_type": "code",
        "colab": {}
      },
      "source": [
        "# Creating the class\n",
        "class Pet(object):\n",
        "    \"\"\"Class object for a pet.\"\"\"\n",
        "  \n",
        "    def __init__(self, species, name):\n",
        "        \"\"\"Initialize a Pet.\"\"\"\n",
        "        self.species = species\n",
        "        self.name = name\n",
        " \n",
        "    def __str__(self):\n",
        "        \"\"\"Output when printing an instance of a Pet.\"\"\"\n",
        "        return f\"{self.species} named {self.name}\""
      ],
      "execution_count": 0,
      "outputs": []
    },
    {
      "cell_type": "code",
      "metadata": {
        "id": "vQeU2yScSkW7",
        "colab_type": "code",
        "outputId": "c4ea7719-9656-4b02-d454-2ca8a53dfbc4",
        "colab": {
          "base_uri": "https://localhost:8080/",
          "height": 51
        }
      },
      "source": [
        "# Creating an instance of a class\n",
        "my_dog = Pet(species=\"dog\", \n",
        "             name=\"Scooby\")\n",
        "print (my_dog)\n",
        "print (my_dog.name)"
      ],
      "execution_count": 0,
      "outputs": [
        {
          "output_type": "stream",
          "text": [
            "dog named Scooby\n",
            "Scooby\n"
          ],
          "name": "stdout"
        }
      ]
    },
    {
      "cell_type": "markdown",
      "metadata": {
        "id": "luB-RBMXK_rL",
        "colab_type": "text"
      },
      "source": [
        "<div align=\"left\">\n",
        "<img src=\"https://raw.githubusercontent.com/practicalAI/images/master/images/lightbulb.gif\" width=\"45px\" align=\"left\"hspace=\"10px\">\n",
        "</div>\n",
        "\n",
        "\n",
        "Classes can be customized with `magic` functions like `__str__(self)` above enable powerful operations. We will be exploring additional built-in functions in subsequent notebooks but if you're curious, here is a [tutorial](https://rszalski.github.io/magicmethods/) on more magic methods."
      ]
    },
    {
      "cell_type": "markdown",
      "metadata": {
        "id": "LaTaBd8jSYuy",
        "colab_type": "text"
      },
      "source": [
        "### Object methods"
      ]
    },
    {
      "cell_type": "code",
      "metadata": {
        "id": "Vz95DOFjSY3s",
        "colab_type": "code",
        "colab": {}
      },
      "source": [
        "# Creating the class\n",
        "class Pet(object):\n",
        "    \"\"\"Class object for a pet.\"\"\"\n",
        "  \n",
        "    def __init__(self, species, name):\n",
        "        \"\"\"Initialize a Pet.\"\"\"\n",
        "        self.species = species\n",
        "        self.name = name\n",
        " \n",
        "    def __str__(self):\n",
        "        \"\"\"Output when printing an instance of a Pet.\"\"\"\n",
        "        return f\"{self.species} named {self.name}\"\n",
        "        \n",
        "    def change_name(self, new_name):\n",
        "        \"\"\"Change the name of your Pet.\"\"\"\n",
        "        self.name = new_name"
      ],
      "execution_count": 0,
      "outputs": []
    },
    {
      "cell_type": "code",
      "metadata": {
        "id": "ezQq_Fhhrqrv",
        "colab_type": "code",
        "outputId": "862fd61d-c87d-47a9-ed7b-1ee3530cfb5c",
        "colab": {
          "base_uri": "https://localhost:8080/",
          "height": 51
        }
      },
      "source": [
        "# Creating an instance of a class\n",
        "my_dog = Pet(species=\"dog\", \n",
        "             name=\"Scooby\")\n",
        "print (my_dog)\n",
        "print (my_dog.name)"
      ],
      "execution_count": 0,
      "outputs": [
        {
          "output_type": "stream",
          "text": [
            "dog named Scooby\n",
            "Scooby\n"
          ],
          "name": "stdout"
        }
      ]
    },
    {
      "cell_type": "code",
      "metadata": {
        "id": "qTinlRj1szc5",
        "colab_type": "code",
        "outputId": "2ccd26f6-3cae-411f-9fca-74695133dec6",
        "colab": {
          "base_uri": "https://localhost:8080/",
          "height": 51
        }
      },
      "source": [
        "# Using a class's function\n",
        "my_dog.change_name(new_name=\"Scrappy\")\n",
        "print (my_dog)\n",
        "print (my_dog.name)"
      ],
      "execution_count": 0,
      "outputs": [
        {
          "output_type": "stream",
          "text": [
            "dog named Scrappy\n",
            "Scrappy\n"
          ],
          "name": "stdout"
        }
      ]
    },
    {
      "cell_type": "markdown",
      "metadata": {
        "id": "wRcOLRK3TlEO",
        "colab_type": "text"
      },
      "source": [
        "### Inheritance"
      ]
    },
    {
      "cell_type": "markdown",
      "metadata": {
        "id": "wR1lyaGwWAcR",
        "colab_type": "text"
      },
      "source": [
        "Inheritance allows you to inherit all the properties and methods from the parent class. Notice how we inherited the initized variables from the parent `Pet` class like species and name. We also inherited the `change_name` function. But for the `__str__` function, we defines our own version to overwrite the `Pet` class's `__str__` function."
      ]
    },
    {
      "cell_type": "code",
      "metadata": {
        "id": "TaDN2qwBTm7_",
        "colab_type": "code",
        "colab": {}
      },
      "source": [
        "class Dog(Pet):\n",
        "    def __init__(self, species, name, breed):\n",
        "        super().__init__(species, name)\n",
        "        self.breed = breed\n",
        "    \n",
        "    def __str__(self):\n",
        "        return f\"{self.breed} named {self.name}\""
      ],
      "execution_count": 0,
      "outputs": []
    },
    {
      "cell_type": "code",
      "metadata": {
        "id": "tKxWHokkT-RI",
        "colab_type": "code",
        "outputId": "2a9d36fe-0688-4f59-a898-8182c8311f93",
        "colab": {
          "base_uri": "https://localhost:8080/",
          "height": 34
        }
      },
      "source": [
        "scooby = Dog(species=\"dog\", name=\"Scooby\", breed=\"Great Dane\")\n",
        "print (scooby)"
      ],
      "execution_count": 0,
      "outputs": [
        {
          "output_type": "stream",
          "text": [
            "Great Dane named Scooby\n"
          ],
          "name": "stdout"
        }
      ]
    },
    {
      "cell_type": "code",
      "metadata": {
        "id": "YLF_tw5mVFO9",
        "colab_type": "code",
        "outputId": "6910fc71-6808-4bfd-dc23-36f1c56605bd",
        "colab": {
          "base_uri": "https://localhost:8080/",
          "height": 34
        }
      },
      "source": [
        "scooby.change_name('Scooby Doo')\n",
        "print (scooby)"
      ],
      "execution_count": 0,
      "outputs": [
        {
          "output_type": "stream",
          "text": [
            "Great Dane named Scooby Doo\n"
          ],
          "name": "stdout"
        }
      ]
    },
    {
      "cell_type": "markdown",
      "metadata": {
        "id": "YZOgTJuezfu_",
        "colab_type": "text"
      },
      "source": [
        "# Decorators and Callbacks"
      ]
    },
    {
      "cell_type": "markdown",
      "metadata": {
        "id": "wFU9qnaFziCR",
        "colab_type": "text"
      },
      "source": [
        "Recall that functions allow us to modularize code and reuse them seamlessly. However, we’ll often find ourselves wanting to change just a little bit about them. Instead of writing a whole new function for this, we can use decorators and callbacks!\n",
        "\n",
        "*   **decorators**: augment a function with pre/post-processing. They wrap around the main function and allow you to operate on the inputs and or outputs.\n",
        "\n",
        "*   **callbacks**: conditional/situational processing within the function.\n",
        "\n",
        "By combining both decorators and callbacks, we can achieve powerful customization before, during and after the main function’s execution while maintaining one modular function. They become very useful when we want to do special operations on certain inputs/outputs during stages of training without rewrite large training scripts every time.\n",
        "\n",
        "<div align=\"left\">\n",
        "<img src=\"https://raw.githubusercontent.com/practicalAI/images/master/images/01_Python/decorators.png\" width=\"350\">\n",
        "</div>\n",
        "\n",
        "**Note**: Decorators and callbacks can also be used in other ways but we'll be using them for these purposes in future lessons. "
      ]
    },
    {
      "cell_type": "code",
      "metadata": {
        "id": "HvcSqygU3K7y",
        "colab_type": "code",
        "colab": {}
      },
      "source": [
        "# functools.wraps allows us to easily define a decorators that will wrap around any function\n",
        "from functools import wraps"
      ],
      "execution_count": 0,
      "outputs": []
    },
    {
      "cell_type": "code",
      "metadata": {
        "id": "aqfogYKH3LC7",
        "colab_type": "code",
        "colab": {}
      },
      "source": [
        "# Decorator\n",
        "def add(f):\n",
        "    @wraps(f)\n",
        "    def wrap(*args, **kwargs):\n",
        "        x = kwargs.pop('x') # .get() if not altering x\n",
        "        x += 1 # executes before function f\n",
        "        x = f(*args, **kwargs, x=x)\n",
        "        # can do things post function f as well\n",
        "        return x\n",
        "    return wrap"
      ],
      "execution_count": 0,
      "outputs": []
    },
    {
      "cell_type": "code",
      "metadata": {
        "id": "TmDYRuum3LJE",
        "colab_type": "code",
        "colab": {}
      },
      "source": [
        "# Callback\n",
        "class x_tracker(object):\n",
        "    def __init__(self, x):\n",
        "        self.history = [x]\n",
        "    def at_start(self, x):\n",
        "        self.history.append(x)\n",
        "    def at_end(self, x):\n",
        "        self.history.append(x)"
      ],
      "execution_count": 0,
      "outputs": []
    },
    {
      "cell_type": "code",
      "metadata": {
        "id": "FJdcyoVt3LAn",
        "colab_type": "code",
        "colab": {}
      },
      "source": [
        "# Main function\n",
        "@add\n",
        "def operations(x, callbacks=[]):\n",
        "    for callback in callbacks:\n",
        "        callback.at_start(x)\n",
        "    x += 1\n",
        "    for callback in callbacks:\n",
        "        callback.at_end(x)\n",
        "    return x"
      ],
      "execution_count": 0,
      "outputs": []
    },
    {
      "cell_type": "code",
      "metadata": {
        "id": "id3YXC-P3fpw",
        "colab_type": "code",
        "outputId": "f2d72f8a-22ff-4184-a73f-8c00b88fa498",
        "colab": {
          "base_uri": "https://localhost:8080/",
          "height": 34
        }
      },
      "source": [
        "x = 1\n",
        "tracker = x_tracker(x=x)\n",
        "operations(x=x, callbacks=[tracker])"
      ],
      "execution_count": 0,
      "outputs": [
        {
          "output_type": "execute_result",
          "data": {
            "text/plain": [
              "3"
            ]
          },
          "metadata": {
            "tags": []
          },
          "execution_count": 9
        }
      ]
    },
    {
      "cell_type": "code",
      "metadata": {
        "id": "B3x3qqNI3fs6",
        "colab_type": "code",
        "outputId": "0488af18-0331-48f3-ba1f-8fabde8d7b37",
        "colab": {
          "base_uri": "https://localhost:8080/",
          "height": 34
        }
      },
      "source": [
        "tracker.history"
      ],
      "execution_count": 0,
      "outputs": [
        {
          "output_type": "execute_result",
          "data": {
            "text/plain": [
              "[1, 2, 3]"
            ]
          },
          "metadata": {
            "tags": []
          },
          "execution_count": 10
        }
      ]
    },
    {
      "cell_type": "markdown",
      "metadata": {
        "id": "kiWtd0aJtNtY",
        "colab_type": "text"
      },
      "source": [
        "# Additional resources"
      ]
    },
    {
      "cell_type": "markdown",
      "metadata": {
        "id": "cfLF4ktmtSC3",
        "colab_type": "text"
      },
      "source": [
        "* **Python 3**: This was a very quick look at Python but it's good enough for practical machine learning and we'll be learning more in future lessons. If you want to learn more, check out this [free Python3 course](https://www.w3schools.com/python/default.asp)."
      ]
    },
    {
      "cell_type": "markdown",
      "metadata": {
        "id": "wSaDuURFBGKN",
        "colab_type": "text"
      },
      "source": [
        "---\n",
        "<div align=\"center\">\n",
        "\n",
        "Subscribe to our [newsletter](https://practicalai.me/#newsletter) and follow us on social media to get the latest updates! <br>\n",
        "\n",
        "<a class=\"ai-header-badge\" target=\"_blank\" href=\"https://github.com/GokuMohandas/practicalAI\"><img src=\"https://img.shields.io/github/stars/GokuMohandas/practicalAI.svg?style=social&label=Star\"></a>&nbsp;&nbsp;\n",
        "<a class=\"ai-header-badge\" target=\"_blank\" href=\"https://www.linkedin.com/company/practicalai-me\"><img src=\"https://img.shields.io/badge/style--5eba00.svg?label=LinkedIn&logo=linkedin&style=social\"></a>&nbsp;&nbsp;\n",
        "<a class=\"ai-header-badge\" target=\"_blank\" href=\"https://twitter.com/GokuMohandas\"><img src=\"https://img.shields.io/twitter/follow/GokuMohandas.svg?label=Follow&style=social\"></a>&nbsp;&nbsp;\n",
        "</div>"
      ]
    }
  ]
}