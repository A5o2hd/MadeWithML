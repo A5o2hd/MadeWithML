{
  "nbformat": 4,
  "nbformat_minor": 0,
  "metadata": {
    "colab": {
      "name": "01_Python",
      "provenance": [],
      "collapsed_sections": [],
      "toc_visible": true
    },
    "kernelspec": {
      "name": "python3",
      "display_name": "Python 3"
    }
  },
  "cells": [
    {
      "cell_type": "markdown",
      "metadata": {
        "id": "pY8iWjayaC22",
        "colab_type": "text"
      },
      "source": [
        "<a href=\"https://practicalai.me\"><img src=\"https://raw.githubusercontent.com/practicalAI/images/master/images/rounded_logo.png\" width=\"100\" align=\"left\" hspace=\"20px\" vspace=\"20px\"></a>\n",
        "\n",
        "<img src=\"https://raw.githubusercontent.com/practicalAI/images/master/images/01_Python/python.png\" width=\"250\" vspace=\"30px\" align=\"right\">\n",
        "\n",
        "<div align=\"left\">\n",
        "<h1>Introduction to Python</h1>\n",
        "\n",
        "In this lesson we'll learn the basics of the Python programming language. We won't learn everything but enough of a foundation for basic machine learning. We'll continue to learn more in future lessons!\n",
        "</div>"
      ]
    },
    {
      "cell_type": "markdown",
      "metadata": {
        "id": "gN-UI0ZUd0Xt",
        "colab_type": "text"
      },
      "source": [
        "<table align=\"center\">\n",
        "  <td>\n",
        "<img src=\"https://raw.githubusercontent.com/practicalAI/images/master/images/rounded_logo.png\" width=\"25\"><a target=\"_blank\" href=\"https://practicalai.me\"> View on practicalAI</a>\n",
        "  </td>\n",
        "  <td>\n",
        "<img src=\"https://raw.githubusercontent.com/practicalAI/images/master/images/colab_logo.png\" width=\"25\"><a target=\"_blank\" href=\"https://colab.research.google.com/github/practicalAI/practicalAI/blob/master/notebooks/01_Python.ipynb\"> Run in Google Colab</a>\n",
        "  </td>\n",
        "  <td>\n",
        "<img src=\"https://raw.githubusercontent.com/practicalAI/images/master/images/github_logo.png\" width=\"22\"><a target=\"_blank\" href=\"https://github.com/practicalAI/practicalAI/blob/master/notebooks/01_Python.ipynb\"> View code on GitHub</a>\n",
        "  </td>\n",
        "</table>"
      ]
    },
    {
      "cell_type": "markdown",
      "metadata": {
        "id": "VoMq0eFRvugb",
        "colab_type": "text"
      },
      "source": [
        "#  Variables"
      ]
    },
    {
      "cell_type": "markdown",
      "metadata": {
        "id": "qWro5T5qTJJL",
        "colab_type": "text"
      },
      "source": [
        "Variables are containers for holding data and they're defined by a name and value.\n",
        "\n",
        "<div align=\"left\">\n",
        "<img src=\"https://raw.githubusercontent.com/practicalAI/images/master/images/01_Python/variables.png\" width=\"220\">\n",
        "</div>"
      ]
    },
    {
      "cell_type": "code",
      "metadata": {
        "id": "0-dXQiLlTIgz",
        "colab_type": "code",
        "outputId": "30350ef3-5568-4aff-a1d9-692e6516c0ec",
        "colab": {
          "base_uri": "https://localhost:8080/",
          "height": 52
        }
      },
      "source": [
        "# Integer variable\n",
        "x = 5\n",
        "print (x)\n",
        "print (type(x))\n"
      ],
      "execution_count": 1,
      "outputs": [
        {
          "output_type": "stream",
          "text": [
            "5\n",
            "<class 'int'>\n"
          ],
          "name": "stdout"
        }
      ]
    },
    {
      "cell_type": "markdown",
      "metadata": {
        "id": "LDAdgPSCyMbN",
        "colab_type": "text"
      },
      "source": [
        "We can change the value of a variable by simply assigning a new value to it."
      ]
    },
    {
      "cell_type": "code",
      "metadata": {
        "id": "5Ym0owFxTkjo",
        "colab_type": "code",
        "outputId": "6e5df3e5-5d76-4c99-cd16-8b13152796fc",
        "colab": {
          "base_uri": "https://localhost:8080/",
          "height": 52
        }
      },
      "source": [
        "# String variable\n",
        "x = \"hello\"\n",
        "print (x)\n",
        "print (type(x))"
      ],
      "execution_count": 3,
      "outputs": [
        {
          "output_type": "stream",
          "text": [
            "hello\n",
            "<class 'str'>\n"
          ],
          "name": "stdout"
        }
      ]
    },
    {
      "cell_type": "markdown",
      "metadata": {
        "colab_type": "text",
        "id": "Lsq_c_AhEzZN"
      },
      "source": [
        "There are many different types of variables: integers, floats, strings, boolean etc."
      ]
    },
    {
      "cell_type": "code",
      "metadata": {
        "colab_type": "code",
        "outputId": "45bcf0b3-e836-422e-fd46-4ceab6ede6a9",
        "id": "m4kAmbD9EzHz",
        "colab": {
          "base_uri": "https://localhost:8080/",
          "height": 35
        }
      },
      "source": [
        "# int variable\n",
        "x = 5\n",
        "print (x, type(x))"
      ],
      "execution_count": 4,
      "outputs": [
        {
          "output_type": "stream",
          "text": [
            "5 <class 'int'>\n"
          ],
          "name": "stdout"
        }
      ]
    },
    {
      "cell_type": "code",
      "metadata": {
        "colab_type": "code",
        "outputId": "a24bbe5e-e544-44de-f061-cb56c802eb7b",
        "id": "gb9BzIoOEy6A",
        "colab": {
          "base_uri": "https://localhost:8080/",
          "height": 35
        }
      },
      "source": [
        "# float variable\n",
        "x = 5.0\n",
        "print (x, type(x))"
      ],
      "execution_count": 5,
      "outputs": [
        {
          "output_type": "stream",
          "text": [
            "5.0 <class 'float'>\n"
          ],
          "name": "stdout"
        }
      ]
    },
    {
      "cell_type": "code",
      "metadata": {
        "colab_type": "code",
        "outputId": "a6709d44-adb9-4969-d266-64c5bf693dc1",
        "id": "RkqP-eraEytN",
        "colab": {
          "base_uri": "https://localhost:8080/",
          "height": 35
        }
      },
      "source": [
        "# text variable\n",
        "x = \"5\" \n",
        "print (x, type(x))"
      ],
      "execution_count": 6,
      "outputs": [
        {
          "output_type": "stream",
          "text": [
            "5 <class 'str'>\n"
          ],
          "name": "stdout"
        }
      ]
    },
    {
      "cell_type": "code",
      "metadata": {
        "colab_type": "code",
        "outputId": "57ce1553-df3a-4ef0-d36c-8a7ab8fe21c0",
        "id": "ws4HSsJpEyfL",
        "colab": {
          "base_uri": "https://localhost:8080/",
          "height": 35
        }
      },
      "source": [
        "# boolean variable\n",
        "x = True\n",
        "print (x, type(x))"
      ],
      "execution_count": 7,
      "outputs": [
        {
          "output_type": "stream",
          "text": [
            "True <class 'bool'>\n"
          ],
          "name": "stdout"
        }
      ]
    },
    {
      "cell_type": "markdown",
      "metadata": {
        "id": "EWOmrbiDybhF",
        "colab_type": "text"
      },
      "source": [
        "We can also do operations with variables."
      ]
    },
    {
      "cell_type": "code",
      "metadata": {
        "id": "1a4ZhMV1T1-0",
        "colab_type": "code",
        "outputId": "a459f101-72d9-4cd7-b163-7be4a536dae5",
        "colab": {
          "base_uri": "https://localhost:8080/",
          "height": 35
        }
      },
      "source": [
        "# Variables can be used with each other\n",
        "a = 1\n",
        "b = 2\n",
        "c = a + b\n",
        "print (c)"
      ],
      "execution_count": 8,
      "outputs": [
        {
          "output_type": "stream",
          "text": [
            "3\n"
          ],
          "name": "stdout"
        }
      ]
    },
    {
      "cell_type": "markdown",
      "metadata": {
        "id": "6HPtavfdU8Ut",
        "colab_type": "text"
      },
      "source": [
        "We should always know what types of variables we're dealing with so we can do the right operations with them. Here's a common mistake that can happen if we're using the wrong variable type."
      ]
    },
    {
      "cell_type": "code",
      "metadata": {
        "id": "8pr1-i7IVD-h",
        "colab_type": "code",
        "outputId": "e543d359-aca5-4de1-9861-606c4040623d",
        "colab": {
          "base_uri": "https://localhost:8080/",
          "height": 35
        }
      },
      "source": [
        "# int variables\n",
        "a = 5\n",
        "b = 3\n",
        "print (a + b)"
      ],
      "execution_count": 9,
      "outputs": [
        {
          "output_type": "stream",
          "text": [
            "8\n"
          ],
          "name": "stdout"
        }
      ]
    },
    {
      "cell_type": "code",
      "metadata": {
        "id": "A9u0Mtke5xkk",
        "colab_type": "code",
        "outputId": "9df26db4-dc7c-40ca-ca71-e012cc02d9bf",
        "colab": {
          "base_uri": "https://localhost:8080/",
          "height": 35
        }
      },
      "source": [
        "# string variables\n",
        "a = \"5\"\n",
        "b = \"3\"\n",
        "print (a + b)"
      ],
      "execution_count": 10,
      "outputs": [
        {
          "output_type": "stream",
          "text": [
            "53\n"
          ],
          "name": "stdout"
        }
      ]
    },
    {
      "cell_type": "markdown",
      "metadata": {
        "id": "q4R_UF6PVw4V",
        "colab_type": "text"
      },
      "source": [
        "#  Lists"
      ]
    },
    {
      "cell_type": "markdown",
      "metadata": {
        "id": "LvGsQBj4VjMl",
        "colab_type": "text"
      },
      "source": [
        "Lists are an ordered, mutable (changeable) collection of values that are *comma separated* and enclosed by *square brackets*. A list can be comprised of many different types of variables (below is a list with an integer, string and a float).\n",
        "\n",
        "<div align=\"left\">\n",
        "<img src=\"https://raw.githubusercontent.com/practicalAI/images/master/images/01_Python/lists.png\" width=\"300\">\n",
        "</div>"
      ]
    },
    {
      "cell_type": "code",
      "metadata": {
        "id": "9iPESkq9VvlX",
        "colab_type": "code",
        "outputId": "6c2f314a-cbe8-4938-900a-a551c9820fdd",
        "colab": {
          "base_uri": "https://localhost:8080/",
          "height": 35
        }
      },
      "source": [
        "# Creating a list\n",
        "x = [3, \"hello\", 1.2]\n",
        "print (x)"
      ],
      "execution_count": 11,
      "outputs": [
        {
          "output_type": "stream",
          "text": [
            "[3, 'hello', 1.2]\n"
          ],
          "name": "stdout"
        }
      ]
    },
    {
      "cell_type": "code",
      "metadata": {
        "id": "esDwOfutKtBf",
        "colab_type": "code",
        "outputId": "5781ee1a-6f36-4fe2-f5f2-bd24e16771e4",
        "colab": {
          "base_uri": "https://localhost:8080/",
          "height": 35
        }
      },
      "source": [
        "# Length of a list\n",
        "len(x)"
      ],
      "execution_count": 12,
      "outputs": [
        {
          "output_type": "execute_result",
          "data": {
            "text/plain": [
              "3"
            ]
          },
          "metadata": {
            "tags": []
          },
          "execution_count": 12
        }
      ]
    },
    {
      "cell_type": "markdown",
      "metadata": {
        "id": "0xC6WvuwbGDg",
        "colab_type": "text"
      },
      "source": [
        "You can add to a list by using the **append** function."
      ]
    },
    {
      "cell_type": "code",
      "metadata": {
        "id": "7lbajc-zV515",
        "colab_type": "code",
        "outputId": "ba199d8f-19b0-4a50-a95d-e62ba6655f41",
        "colab": {
          "base_uri": "https://localhost:8080/",
          "height": 52
        }
      },
      "source": [
        "# Adding to a list\n",
        "x.append(7)\n",
        "print (x)\n",
        "print (len(x))"
      ],
      "execution_count": 13,
      "outputs": [
        {
          "output_type": "stream",
          "text": [
            "[3, 'hello', 1.2, 7]\n",
            "4\n"
          ],
          "name": "stdout"
        }
      ]
    },
    {
      "cell_type": "code",
      "metadata": {
        "id": "TjVjmiSIK1YA",
        "colab_type": "code",
        "outputId": "0b319532-4561-4122-fda0-9a6fd3f79b57",
        "colab": {
          "base_uri": "https://localhost:8080/",
          "height": 35
        }
      },
      "source": [
        "# Replacing items in a list\n",
        "x[1] = \"bye\"\n",
        "print (x)"
      ],
      "execution_count": 14,
      "outputs": [
        {
          "output_type": "stream",
          "text": [
            "[3, 'bye', 1.2, 7]\n"
          ],
          "name": "stdout"
        }
      ]
    },
    {
      "cell_type": "code",
      "metadata": {
        "id": "tNLaysG6K6E9",
        "colab_type": "code",
        "outputId": "732c1634-f997-4a75-879e-072a74084f18",
        "colab": {
          "base_uri": "https://localhost:8080/",
          "height": 35
        }
      },
      "source": [
        "# Operations\n",
        "y = [2.4, \"world\"]\n",
        "z = x + y\n",
        "print (z)"
      ],
      "execution_count": 15,
      "outputs": [
        {
          "output_type": "stream",
          "text": [
            "[3, 'bye', 1.2, 7, 2.4, 'world']\n"
          ],
          "name": "stdout"
        }
      ]
    },
    {
      "cell_type": "markdown",
      "metadata": {
        "id": "M7mQpE7dtpX6",
        "colab_type": "text"
      },
      "source": [
        "### Indexing and Slicing"
      ]
    },
    {
      "cell_type": "markdown",
      "metadata": {
        "id": "wJqJM2Q13TwE",
        "colab_type": "text"
      },
      "source": [
        "Indexing and slicing from lists allow us to retrieve specific values within lists. Note that indices can be positive (starting from 0) or negative (-1 and lower where -1 is the last item in the list).\n",
        "\n",
        "<div align=\"left\">\n",
        "<img src=\"https://raw.githubusercontent.com/practicalAI/images/master/images/01_Python/indexing.png\" width=\"300\">\n",
        "</div>"
      ]
    },
    {
      "cell_type": "code",
      "metadata": {
        "id": "W0xpIryJWCN9",
        "colab_type": "code",
        "outputId": "12f9735e-3674-4651-93a9-2180e87fd317",
        "colab": {
          "base_uri": "https://localhost:8080/",
          "height": 86
        }
      },
      "source": [
        "# Indexing\n",
        "print (\"x[0]: \", x[0])\n",
        "print (\"x[1]: \", x[1])\n",
        "print (\"x[-1]: \", x[-1]) # the last item\n",
        "print (\"x[-2]: \", x[-2]) # the second to last item"
      ],
      "execution_count": 16,
      "outputs": [
        {
          "output_type": "stream",
          "text": [
            "x[0]:  3\n",
            "x[1]:  bye\n",
            "x[-1]:  7\n",
            "x[-2]:  1.2\n"
          ],
          "name": "stdout"
        }
      ]
    },
    {
      "cell_type": "code",
      "metadata": {
        "id": "VSu_HNrnc1WK",
        "colab_type": "code",
        "outputId": "d08fb12b-55b0-454f-bb16-4e872680c6b1",
        "colab": {
          "base_uri": "https://localhost:8080/",
          "height": 86
        }
      },
      "source": [
        "# Slicing\n",
        "print (\"x[:]: \", x[:]) # : = to the end\n",
        "print (\"x[2:]: \", x[2:]) # 2nd index to the end\n",
        "print (\"x[1:3]: \", x[1:3]) # 1st index to 3rd index but including the 3rd index\n",
        "print (\"x[:-2]: \", x[:-2]) # 0th index to two from the last index"
      ],
      "execution_count": 17,
      "outputs": [
        {
          "output_type": "stream",
          "text": [
            "x[:]:  [3, 'bye', 1.2, 7]\n",
            "x[2:]:  [1.2, 7]\n",
            "x[1:3]:  ['bye', 1.2]\n",
            "x[:-2]:  [3, 'bye']\n"
          ],
          "name": "stdout"
        }
      ]
    },
    {
      "cell_type": "markdown",
      "metadata": {
        "id": "ddpIO6LLVzh0",
        "colab_type": "text"
      },
      "source": [
        "# Tuples"
      ]
    },
    {
      "cell_type": "markdown",
      "metadata": {
        "id": "CAZblq7oXY3s",
        "colab_type": "text"
      },
      "source": [
        "Tuples are collections that are ordered and immutable (unchangeable). You will use these to store values that will never be changed."
      ]
    },
    {
      "cell_type": "code",
      "metadata": {
        "id": "G95lu8xWXY90",
        "colab_type": "code",
        "outputId": "5bde875c-3232-4af2-efcd-84a191771525",
        "colab": {
          "base_uri": "https://localhost:8080/",
          "height": 35
        }
      },
      "source": [
        "# Creating a tuple\n",
        "x = (3.0, \"hello\") # tuples start and end with ()\n",
        "print (x)"
      ],
      "execution_count": 18,
      "outputs": [
        {
          "output_type": "stream",
          "text": [
            "(3.0, 'hello')\n"
          ],
          "name": "stdout"
        }
      ]
    },
    {
      "cell_type": "code",
      "metadata": {
        "id": "kq23Bej1acAP",
        "colab_type": "code",
        "outputId": "04f40768-5da3-4194-b31c-793f6aed1ac8",
        "colab": {
          "base_uri": "https://localhost:8080/",
          "height": 35
        }
      },
      "source": [
        "# Adding values to a tuple\n",
        "x = x + (5.6, 4)\n",
        "print (x)"
      ],
      "execution_count": 19,
      "outputs": [
        {
          "output_type": "stream",
          "text": [
            "(3.0, 'hello', 5.6, 4)\n"
          ],
          "name": "stdout"
        }
      ]
    },
    {
      "cell_type": "code",
      "metadata": {
        "id": "-o-tW98FLffc",
        "colab_type": "code",
        "colab": {}
      },
      "source": [
        "# Try to change (it won't work and you'll get an error)\n",
        "x[0] = 1.2"
      ],
      "execution_count": 0,
      "outputs": []
    },
    {
      "cell_type": "markdown",
      "metadata": {
        "id": "UdlJHkwZV3Mz",
        "colab_type": "text"
      },
      "source": [
        "# Dictionaries"
      ]
    },
    {
      "cell_type": "markdown",
      "metadata": {
        "id": "azp3AoxYXS26",
        "colab_type": "text"
      },
      "source": [
        "Dictionaries are an unordered, mutable and indexed collection of key-value pairs. You can retrieve values based on the key and a dictionary cannot have two of the same keys. \n",
        "\n",
        "<div align=\"left\">\n",
        "<img src=\"https://raw.githubusercontent.com/practicalAI/images/master/images/01_Python/dictionaries.png\" width=\"320\">\n",
        "</div>"
      ]
    },
    {
      "cell_type": "code",
      "metadata": {
        "id": "pXhNLbzpXXSk",
        "colab_type": "code",
        "outputId": "98ef2f81-1370-4024-9800-da8d25f51868",
        "colab": {
          "base_uri": "https://localhost:8080/",
          "height": 69
        }
      },
      "source": [
        "# Creating a dictionary\n",
        "person = {'name': 'Goku',\n",
        "          'eye_color': 'brown'}\n",
        "print (person)\n",
        "print (person['name'])\n",
        "print (person['eye_color'])"
      ],
      "execution_count": 21,
      "outputs": [
        {
          "output_type": "stream",
          "text": [
            "{'name': 'Goku', 'eye_color': 'brown'}\n",
            "Goku\n",
            "brown\n"
          ],
          "name": "stdout"
        }
      ]
    },
    {
      "cell_type": "code",
      "metadata": {
        "id": "1HXtX8vQYjXa",
        "colab_type": "code",
        "outputId": "ddecbcbd-766c-44eb-a81f-5bcf35f0f87b",
        "colab": {
          "base_uri": "https://localhost:8080/",
          "height": 35
        }
      },
      "source": [
        "# Changing the value for a key\n",
        "person['eye_color'] = 'green'\n",
        "print (person)"
      ],
      "execution_count": 22,
      "outputs": [
        {
          "output_type": "stream",
          "text": [
            "{'name': 'Goku', 'eye_color': 'green'}\n"
          ],
          "name": "stdout"
        }
      ]
    },
    {
      "cell_type": "code",
      "metadata": {
        "id": "qn33iB0MY5dT",
        "colab_type": "code",
        "outputId": "2664a5e0-a489-4587-895d-00dbab128838",
        "colab": {
          "base_uri": "https://localhost:8080/",
          "height": 35
        }
      },
      "source": [
        "# Adding new key-value pairs\n",
        "person['age'] = 24\n",
        "print (person)"
      ],
      "execution_count": 23,
      "outputs": [
        {
          "output_type": "stream",
          "text": [
            "{'name': 'Goku', 'eye_color': 'green', 'age': 24}\n"
          ],
          "name": "stdout"
        }
      ]
    },
    {
      "cell_type": "code",
      "metadata": {
        "id": "g9EYmzMKa9YV",
        "colab_type": "code",
        "outputId": "79eaabb5-886c-4970-b005-e7c3b3f3d08d",
        "colab": {
          "base_uri": "https://localhost:8080/",
          "height": 35
        }
      },
      "source": [
        "# Length of a dictionary\n",
        "print (len(person))"
      ],
      "execution_count": 24,
      "outputs": [
        {
          "output_type": "stream",
          "text": [
            "3\n"
          ],
          "name": "stdout"
        }
      ]
    },
    {
      "cell_type": "markdown",
      "metadata": {
        "id": "B-DInx_Xo2vJ",
        "colab_type": "text"
      },
      "source": [
        "# If statements"
      ]
    },
    {
      "cell_type": "markdown",
      "metadata": {
        "id": "ZG_ICGRGo4tY",
        "colab_type": "text"
      },
      "source": [
        "We can use `if` statements to conditionally do something. The conditions are defined by the words `if`, `elif` (which stands for else if) and `else`. We can have as many `elif` statements as we want. The indented code below each condition is the code that will execute if the condition is `True`.\n",
        "\n",
        "<div align=\"left\">\n",
        "<img src=\"https://raw.githubusercontent.com/practicalAI/images/master/images/01_Python/if.png\" width=\"600\">\n",
        "</div>"
      ]
    },
    {
      "cell_type": "code",
      "metadata": {
        "id": "uob9lQuKo4Pg",
        "colab_type": "code",
        "outputId": "ce59d363-c178-4c9f-9d64-6c51b5c4cdad",
        "colab": {
          "base_uri": "https://localhost:8080/",
          "height": 35
        }
      },
      "source": [
        "# If statement\n",
        "x = 4\n",
        "if x < 1:\n",
        "    score = 'low'\n",
        "elif x <= 4: # elif = else if\n",
        "    score = 'medium'\n",
        "else:\n",
        "    score = 'high'\n",
        "print (score)"
      ],
      "execution_count": 25,
      "outputs": [
        {
          "output_type": "stream",
          "text": [
            "medium\n"
          ],
          "name": "stdout"
        }
      ]
    },
    {
      "cell_type": "code",
      "metadata": {
        "id": "vwsQaZqIpfJ3",
        "colab_type": "code",
        "outputId": "c9b32fd3-7c69-45a6-9367-8a38d968ef1e",
        "colab": {
          "base_uri": "https://localhost:8080/",
          "height": 35
        }
      },
      "source": [
        "# If statment with a boolean\n",
        "x = True\n",
        "if x:\n",
        "    print (\"it worked\")"
      ],
      "execution_count": 26,
      "outputs": [
        {
          "output_type": "stream",
          "text": [
            "it worked\n"
          ],
          "name": "stdout"
        }
      ]
    },
    {
      "cell_type": "markdown",
      "metadata": {
        "id": "sJ7NPGEKV6Ik",
        "colab_type": "text"
      },
      "source": [
        "# Loops"
      ]
    },
    {
      "cell_type": "markdown",
      "metadata": {
        "id": "cRgqRyfITuEC",
        "colab_type": "text"
      },
      "source": [
        "### For Loops"
      ]
    },
    {
      "cell_type": "markdown",
      "metadata": {
        "id": "YRVxhVCkn0vc",
        "colab_type": "text"
      },
      "source": [
        "A `for` loop can iterate over a collection of values (lists, tuples, dictionaries, etc.) The indented code is executed for each item in the collection of values."
      ]
    },
    {
      "cell_type": "code",
      "metadata": {
        "id": "OB5PtyqAn8mj",
        "colab_type": "code",
        "outputId": "9defc3cb-01bd-4158-aabd-8dfae9155772",
        "colab": {
          "base_uri": "https://localhost:8080/",
          "height": 69
        }
      },
      "source": [
        "# For loop\n",
        "veggies = [\"carrots\", \"broccoli\", \"beans\"]\n",
        "for veggie in veggies:\n",
        "    print (veggie)"
      ],
      "execution_count": 27,
      "outputs": [
        {
          "output_type": "stream",
          "text": [
            "carrots\n",
            "broccoli\n",
            "beans\n"
          ],
          "name": "stdout"
        }
      ]
    },
    {
      "cell_type": "markdown",
      "metadata": {
        "id": "PQc56LtEDuX2",
        "colab_type": "text"
      },
      "source": [
        "When the loop encounters the `break` command, the loop will terminate immediately. If there were more items in the list, they will not be processed."
      ]
    },
    {
      "cell_type": "code",
      "metadata": {
        "id": "6XyhCrFeoGj4",
        "colab_type": "code",
        "outputId": "e91ef79b-54e3-443a-af96-f570525a109c",
        "colab": {
          "base_uri": "https://localhost:8080/",
          "height": 35
        }
      },
      "source": [
        "# `break` from a for loop\n",
        "veggies = [\"carrots\", \"broccoli\", \"beans\"]\n",
        "for veggie in veggies:\n",
        "    if veggie == \"broccoli\":\n",
        "        break\n",
        "    print (veggie)"
      ],
      "execution_count": 28,
      "outputs": [
        {
          "output_type": "stream",
          "text": [
            "carrots\n"
          ],
          "name": "stdout"
        }
      ]
    },
    {
      "cell_type": "markdown",
      "metadata": {
        "id": "O_0-vSSuEAqU",
        "colab_type": "text"
      },
      "source": [
        "When the loop encounters the `continue` command, the loop will skip all other operations for that item in the list only. If there were more items in the list, the loop will continue normally."
      ]
    },
    {
      "cell_type": "code",
      "metadata": {
        "id": "KJvlfYs8QbQZ",
        "colab_type": "code",
        "outputId": "c9622951-9ada-443b-b181-386e7659e5e2",
        "colab": {
          "base_uri": "https://localhost:8080/",
          "height": 52
        }
      },
      "source": [
        "# `continue` to the next iteration\n",
        "veggies = [\"carrots\", \"broccoli\", \"beans\"]\n",
        "for veggie in veggies:\n",
        "    if veggie == \"broccoli\":\n",
        "        continue\n",
        "    print (veggie)"
      ],
      "execution_count": 29,
      "outputs": [
        {
          "output_type": "stream",
          "text": [
            "carrots\n",
            "beans\n"
          ],
          "name": "stdout"
        }
      ]
    },
    {
      "cell_type": "markdown",
      "metadata": {
        "id": "VAbnASi2TwZ9",
        "colab_type": "text"
      },
      "source": [
        "### While Loops"
      ]
    },
    {
      "cell_type": "markdown",
      "metadata": {
        "id": "nuHAyQdr_jUa",
        "colab_type": "text"
      },
      "source": [
        "A `while` loop can perform repeatedly as long as a condition is `True`. We can use `continue` and `break` commands in `while` loops as well."
      ]
    },
    {
      "cell_type": "code",
      "metadata": {
        "id": "5Tf2x4okp3fH",
        "colab_type": "code",
        "outputId": "465a0334-0c32-459b-cf99-29e915689202",
        "colab": {
          "base_uri": "https://localhost:8080/",
          "height": 69
        }
      },
      "source": [
        "# While loop\n",
        "x = 3\n",
        "while x > 0:\n",
        "    x -= 1 # same as x = x - 1\n",
        "    print (x)"
      ],
      "execution_count": 30,
      "outputs": [
        {
          "output_type": "stream",
          "text": [
            "2\n",
            "1\n",
            "0\n"
          ],
          "name": "stdout"
        }
      ]
    },
    {
      "cell_type": "markdown",
      "metadata": {
        "id": "gJw-EDO9WBL_",
        "colab_type": "text"
      },
      "source": [
        "# Functions"
      ]
    },
    {
      "cell_type": "markdown",
      "metadata": {
        "id": "hDIOUdWCqBwa",
        "colab_type": "text"
      },
      "source": [
        "Functions are a way to modularize reusable pieces of code. They're defined by the keyword `def` which stands for definition and they can have the following components.\n",
        "\n",
        "<div align=\"left\">\n",
        "<img src=\"https://raw.githubusercontent.com/practicalAI/images/master/images/01_Python/define_function.png\" width=\"350\">\n",
        "</div>"
      ]
    },
    {
      "cell_type": "code",
      "metadata": {
        "id": "iin1ZXmMqA0y",
        "colab_type": "code",
        "colab": {}
      },
      "source": [
        "# Define the function\n",
        "def add_two(x):\n",
        "    \"\"\"Increase x by 2.\"\"\" # explains what this function will do\n",
        "    x += 2\n",
        "    return x"
      ],
      "execution_count": 0,
      "outputs": []
    },
    {
      "cell_type": "markdown",
      "metadata": {
        "id": "OIf2dJ8RGj8l",
        "colab_type": "text"
      },
      "source": [
        "Here are the components that may be required when we want to use the function. we need to ensure that the function name and the input parameters match with how we defined the function above.\n",
        "\n",
        "<div align=\"left\">\n",
        "<img src=\"https://raw.githubusercontent.com/practicalAI/images/master/images/01_Python/use_function.png\" width=\"350\">\n",
        "</div>"
      ]
    },
    {
      "cell_type": "code",
      "metadata": {
        "id": "4ye1A5FobAUd",
        "colab_type": "code",
        "outputId": "31f894d5-2c17-401b-fef5-db2910a8975b",
        "colab": {
          "base_uri": "https://localhost:8080/",
          "height": 35
        }
      },
      "source": [
        "# Use the function\n",
        "score = 0\n",
        "new_score = add_two(x=score)\n",
        "print (new_score)"
      ],
      "execution_count": 32,
      "outputs": [
        {
          "output_type": "stream",
          "text": [
            "2\n"
          ],
          "name": "stdout"
        }
      ]
    },
    {
      "cell_type": "markdown",
      "metadata": {
        "id": "5kpEiTUZqMax",
        "colab_type": "text"
      },
      "source": [
        "A function can have as many input parameters and outputs as we want."
      ]
    },
    {
      "cell_type": "code",
      "metadata": {
        "id": "DC6x3DMrqlE3",
        "colab_type": "code",
        "colab": {}
      },
      "source": [
        "# Function with multiple inputs\n",
        "def join_name(first_name, last_name):\n",
        "    \"\"\"Combine first name and last name.\"\"\"\n",
        "    joined_name = first_name + \" \" + last_name\n",
        "    return joined_name"
      ],
      "execution_count": 0,
      "outputs": []
    },
    {
      "cell_type": "code",
      "metadata": {
        "id": "ehc8bNoGbBt8",
        "colab_type": "code",
        "outputId": "c14af3eb-b2b1-4b34-f071-b4e99e33f337",
        "colab": {
          "base_uri": "https://localhost:8080/",
          "height": 35
        }
      },
      "source": [
        "# Use the function\n",
        "first_name = \"Goku\"\n",
        "last_name = \"Mohandas\"\n",
        "joined_name = join_name(first_name=first_name, \n",
        "                        last_name=last_name)\n",
        "print (joined_name)"
      ],
      "execution_count": 34,
      "outputs": [
        {
          "output_type": "stream",
          "text": [
            "Goku Mohandas\n"
          ],
          "name": "stdout"
        }
      ]
    },
    {
      "cell_type": "markdown",
      "metadata": {
        "id": "x3_7Qv91Gjua",
        "colab_type": "text"
      },
      "source": [
        "<div align=\"left\">\n",
        "<img src=\"https://raw.githubusercontent.com/practicalAI/images/master/images/lightbulb.gif\" width=\"45px\" align=\"left\" hspace=\"10px\">\n",
        "</div>\n",
        "\n",
        "It's good practice to always use keyword argument when using a function so that it's very clear what input variable belongs to what function input parameter. On a related note, you will often see the terms ***args** and ****kwargs** which stand for arguments and keyword arguments. You can extract them when they are passed into a function. The significance of the * is that any number of arguments and keyword arguments can be passed into the function."
      ]
    },
    {
      "cell_type": "code",
      "metadata": {
        "id": "XHhaCfFaHSVo",
        "colab_type": "code",
        "colab": {}
      },
      "source": [
        "def f(*args, **kwargs):\n",
        "    x = args[0]\n",
        "    y = kwargs.get('y')\n",
        "    print (f\"x: {x}, y: {y}\")"
      ],
      "execution_count": 0,
      "outputs": []
    },
    {
      "cell_type": "code",
      "metadata": {
        "id": "ZRB9msy0HmR_",
        "colab_type": "code",
        "colab": {
          "base_uri": "https://localhost:8080/",
          "height": 35
        },
        "outputId": "990df8d4-1d2f-4770-c575-9b1855a178b5"
      },
      "source": [
        "f(5, y=2)"
      ],
      "execution_count": 82,
      "outputs": [
        {
          "output_type": "stream",
          "text": [
            "x: 5, y: 2\n"
          ],
          "name": "stdout"
        }
      ]
    },
    {
      "cell_type": "markdown",
      "metadata": {
        "id": "lBLa1n54WEd2",
        "colab_type": "text"
      },
      "source": [
        "# Classes"
      ]
    },
    {
      "cell_type": "markdown",
      "metadata": {
        "id": "mGua8QnArAZh",
        "colab_type": "text"
      },
      "source": [
        "Classes are object constructors and are a fundamental component of object oriented programming in Python. They are composed of a set of functions that define the class and it's operations.\n",
        "\n",
        "<div align=\"left\">\n",
        "<img src=\"https://raw.githubusercontent.com/practicalAI/images/master/images/01_Python/classes.png\" width=\"500\">\n",
        "</div>"
      ]
    },
    {
      "cell_type": "markdown",
      "metadata": {
        "id": "CypuBBQyRv8s",
        "colab_type": "text"
      },
      "source": [
        "### `__init__()` function"
      ]
    },
    {
      "cell_type": "markdown",
      "metadata": {
        "id": "Hrx2bKTXR4E3",
        "colab_type": "text"
      },
      "source": [
        "The `init` function is used when an instance of the class is initialized. "
      ]
    },
    {
      "cell_type": "code",
      "metadata": {
        "id": "DXmPwI1frAAd",
        "colab_type": "code",
        "colab": {}
      },
      "source": [
        "# Creating the class\n",
        "class Pet(object):\n",
        "    \"\"\"Class object for a pet.\"\"\"\n",
        "  \n",
        "    def __init__(self, species, name):\n",
        "        \"\"\"Initialize a Pet.\"\"\"\n",
        "        self.species = species\n",
        "        self.name = name"
      ],
      "execution_count": 0,
      "outputs": []
    },
    {
      "cell_type": "code",
      "metadata": {
        "id": "j5F4XmFQSfVr",
        "colab_type": "code",
        "outputId": "888e5570-62c9-46e1-9c3b-f79ebf20b2a3",
        "colab": {
          "base_uri": "https://localhost:8080/",
          "height": 52
        }
      },
      "source": [
        "# Creating an instance of a class\n",
        "my_dog = Pet(species=\"dog\", \n",
        "             name=\"Scooby\")\n",
        "print (my_dog)\n",
        "print (my_dog.name)"
      ],
      "execution_count": 36,
      "outputs": [
        {
          "output_type": "stream",
          "text": [
            "<__main__.Pet object at 0x7fefdce12e48>\n",
            "Scooby\n"
          ],
          "name": "stdout"
        }
      ]
    },
    {
      "cell_type": "markdown",
      "metadata": {
        "id": "6ZVfBXNISUBR",
        "colab_type": "text"
      },
      "source": [
        "### `__str()__` function"
      ]
    },
    {
      "cell_type": "markdown",
      "metadata": {
        "id": "8q6oiWHQSqOo",
        "colab_type": "text"
      },
      "source": [
        "The `print (my_dog)` command printed something not so relevant to us. Let's fix that with the `__str()__` function."
      ]
    },
    {
      "cell_type": "code",
      "metadata": {
        "id": "N1_RDVo9Ruhf",
        "colab_type": "code",
        "colab": {}
      },
      "source": [
        "# Creating the class\n",
        "class Pet(object):\n",
        "    \"\"\"Class object for a pet.\"\"\"\n",
        "  \n",
        "    def __init__(self, species, name):\n",
        "        \"\"\"Initialize a Pet.\"\"\"\n",
        "        self.species = species\n",
        "        self.name = name\n",
        " \n",
        "    def __str__(self):\n",
        "        \"\"\"Output when printing an instance of a Pet.\"\"\"\n",
        "        return f\"{self.species} named {self.name}\""
      ],
      "execution_count": 0,
      "outputs": []
    },
    {
      "cell_type": "code",
      "metadata": {
        "id": "vQeU2yScSkW7",
        "colab_type": "code",
        "outputId": "98cc9306-90fb-426f-cb3a-934218f4a67d",
        "colab": {
          "base_uri": "https://localhost:8080/",
          "height": 52
        }
      },
      "source": [
        "# Creating an instance of a class\n",
        "my_dog = Pet(species=\"dog\", \n",
        "             name=\"Scooby\")\n",
        "print (my_dog)\n",
        "print (my_dog.name)"
      ],
      "execution_count": 38,
      "outputs": [
        {
          "output_type": "stream",
          "text": [
            "dog named Scooby\n",
            "Scooby\n"
          ],
          "name": "stdout"
        }
      ]
    },
    {
      "cell_type": "markdown",
      "metadata": {
        "id": "luB-RBMXK_rL",
        "colab_type": "text"
      },
      "source": [
        "<div align=\"left\">\n",
        "<img src=\"https://raw.githubusercontent.com/practicalAI/images/master/images/lightbulb.gif\" width=\"45px\" align=\"left\" hspace=\"10px\">\n",
        "</div>\n",
        "\n",
        "\n",
        "Classes can be customized with `magic` functions like, `__str__`, to enable powerful operations. We'll be exploring additional built-in functions in subsequent notebooks (like `__iter__` and `__getitem__`) but if you're curious, here is a [tutorial](https://rszalski.github.io/magicmethods/) on more magic methods."
      ]
    },
    {
      "cell_type": "markdown",
      "metadata": {
        "id": "LaTaBd8jSYuy",
        "colab_type": "text"
      },
      "source": [
        "### Object methods"
      ]
    },
    {
      "cell_type": "code",
      "metadata": {
        "id": "Vz95DOFjSY3s",
        "colab_type": "code",
        "colab": {}
      },
      "source": [
        "# Creating the class\n",
        "class Pet(object):\n",
        "    \"\"\"Class object for a pet.\"\"\"\n",
        "  \n",
        "    def __init__(self, species, name):\n",
        "        \"\"\"Initialize a Pet.\"\"\"\n",
        "        self.species = species\n",
        "        self.name = name\n",
        " \n",
        "    def __str__(self):\n",
        "        \"\"\"Output when printing an instance of a Pet.\"\"\"\n",
        "        return f\"{self.species} named {self.name}\"\n",
        "        \n",
        "    def change_name(self, new_name):\n",
        "        \"\"\"Change the name of your Pet.\"\"\"\n",
        "        self.name = new_name"
      ],
      "execution_count": 0,
      "outputs": []
    },
    {
      "cell_type": "code",
      "metadata": {
        "id": "ezQq_Fhhrqrv",
        "colab_type": "code",
        "outputId": "bb578906-3658-48d5-f9ed-e81e310179cf",
        "colab": {
          "base_uri": "https://localhost:8080/",
          "height": 52
        }
      },
      "source": [
        "# Creating an instance of a class\n",
        "my_dog = Pet(species=\"dog\", \n",
        "             name=\"Scooby\")\n",
        "print (my_dog)\n",
        "print (my_dog.name)"
      ],
      "execution_count": 40,
      "outputs": [
        {
          "output_type": "stream",
          "text": [
            "dog named Scooby\n",
            "Scooby\n"
          ],
          "name": "stdout"
        }
      ]
    },
    {
      "cell_type": "code",
      "metadata": {
        "id": "qTinlRj1szc5",
        "colab_type": "code",
        "outputId": "eea0ac79-209f-478a-d9c0-8f5b2c8342ae",
        "colab": {
          "base_uri": "https://localhost:8080/",
          "height": 52
        }
      },
      "source": [
        "# Using a class's function\n",
        "my_dog.change_name(new_name=\"Scrappy\")\n",
        "print (my_dog)\n",
        "print (my_dog.name)"
      ],
      "execution_count": 41,
      "outputs": [
        {
          "output_type": "stream",
          "text": [
            "dog named Scrappy\n",
            "Scrappy\n"
          ],
          "name": "stdout"
        }
      ]
    },
    {
      "cell_type": "markdown",
      "metadata": {
        "id": "wRcOLRK3TlEO",
        "colab_type": "text"
      },
      "source": [
        "### Inheritance"
      ]
    },
    {
      "cell_type": "markdown",
      "metadata": {
        "id": "wR1lyaGwWAcR",
        "colab_type": "text"
      },
      "source": [
        "Inheritance allows you to inherit all the properties and methods from another class (the parent). Notice how we inherited the initialized variables from the parent `Pet` class like species and name. We also inherited the `change_name` function. But for the `__str__` function, we define our own version to overwrite the `Pet` class' `__str__` function."
      ]
    },
    {
      "cell_type": "code",
      "metadata": {
        "id": "TaDN2qwBTm7_",
        "colab_type": "code",
        "colab": {}
      },
      "source": [
        "class Dog(Pet):\n",
        "    def __init__(self, species, name, breed):\n",
        "        super().__init__(species, name)\n",
        "        self.breed = breed\n",
        "    \n",
        "    def __str__(self):\n",
        "        return f\"{self.breed} named {self.name}\""
      ],
      "execution_count": 0,
      "outputs": []
    },
    {
      "cell_type": "code",
      "metadata": {
        "id": "tKxWHokkT-RI",
        "colab_type": "code",
        "outputId": "9f638af0-b307-46e2-a611-c2b6cc68a209",
        "colab": {
          "base_uri": "https://localhost:8080/",
          "height": 35
        }
      },
      "source": [
        "scooby = Dog(species=\"dog\", name=\"Scooby\", breed=\"Great Dane\")\n",
        "print (scooby)"
      ],
      "execution_count": 43,
      "outputs": [
        {
          "output_type": "stream",
          "text": [
            "Great Dane named Scooby\n"
          ],
          "name": "stdout"
        }
      ]
    },
    {
      "cell_type": "code",
      "metadata": {
        "id": "YLF_tw5mVFO9",
        "colab_type": "code",
        "outputId": "092d94a4-02e9-48c4-c4de-4a5fad7f1b6e",
        "colab": {
          "base_uri": "https://localhost:8080/",
          "height": 35
        }
      },
      "source": [
        "scooby.change_name('Scooby Doo')\n",
        "print (scooby)"
      ],
      "execution_count": 44,
      "outputs": [
        {
          "output_type": "stream",
          "text": [
            "Great Dane named Scooby Doo\n"
          ],
          "name": "stdout"
        }
      ]
    },
    {
      "cell_type": "markdown",
      "metadata": {
        "id": "nv5ja3dEtfJN",
        "colab_type": "text"
      },
      "source": [
        "# Decorators"
      ]
    },
    {
      "cell_type": "markdown",
      "metadata": {
        "id": "8aSOSxkSw8lu",
        "colab_type": "text"
      },
      "source": [
        "Recall that functions allow us to modularize code and reuse them. However, we'll often want to add some functionality before or after the main function executes and we may want to do this for many different functions. Instead of adding more code to the original function, we can use decorators!\n",
        "\n",
        "*    **decorators**: augment a function with pre/post-processing. Decorators wrap around the main function and allow us to operate on the inputs and or outputs."
      ]
    },
    {
      "cell_type": "markdown",
      "metadata": {
        "id": "-AdOBNG7FGJB",
        "colab_type": "text"
      },
      "source": [
        "Suppose we have a function called `operations` which increments the input value x by 1."
      ]
    },
    {
      "cell_type": "code",
      "metadata": {
        "id": "B-JYWOyP1ekZ",
        "colab_type": "code",
        "colab": {}
      },
      "source": [
        "def operations(x):\n",
        "    \"\"\"Basic operations.\"\"\"\n",
        "    x += 1\n",
        "    return x"
      ],
      "execution_count": 0,
      "outputs": []
    },
    {
      "cell_type": "code",
      "metadata": {
        "id": "XD6oY_8C1en8",
        "colab_type": "code",
        "colab": {
          "base_uri": "https://localhost:8080/",
          "height": 35
        },
        "outputId": "2010087e-08fa-4c12-a3fc-af25a4bda980"
      },
      "source": [
        "operations(x=1)"
      ],
      "execution_count": 59,
      "outputs": [
        {
          "output_type": "execute_result",
          "data": {
            "text/plain": [
              "2"
            ]
          },
          "metadata": {
            "tags": []
          },
          "execution_count": 59
        }
      ]
    },
    {
      "cell_type": "markdown",
      "metadata": {
        "id": "LbAeHmc91iq-",
        "colab_type": "text"
      },
      "source": [
        "Now let's say we want to increment our input x by 1 before and after the `operations` function executes and, to illustrate this example, let's say the increments have to be separate steps. Here's how we would do it by changing the original code:"
      ]
    },
    {
      "cell_type": "code",
      "metadata": {
        "id": "_zZMfUHq7xuv",
        "colab_type": "code",
        "colab": {}
      },
      "source": [
        "def operations(x):\n",
        "    \"\"\"Basic operations.\"\"\"\n",
        "    x += 1 \n",
        "    x += 1\n",
        "    x += 1\n",
        "    return x"
      ],
      "execution_count": 0,
      "outputs": []
    },
    {
      "cell_type": "code",
      "metadata": {
        "id": "43BhH51m73Kf",
        "colab_type": "code",
        "colab": {
          "base_uri": "https://localhost:8080/",
          "height": 35
        },
        "outputId": "ceb68451-fbb6-4d13-edd6-3191dc7b128b"
      },
      "source": [
        "operations(x=1)"
      ],
      "execution_count": 61,
      "outputs": [
        {
          "output_type": "execute_result",
          "data": {
            "text/plain": [
              "4"
            ]
          },
          "metadata": {
            "tags": []
          },
          "execution_count": 61
        }
      ]
    },
    {
      "cell_type": "markdown",
      "metadata": {
        "id": "dIorZSTM72h-",
        "colab_type": "text"
      },
      "source": [
        "We were able to achieve what we want but we now increased the size of our `operations` function and if we want to do the same incrementation for any other function, we have to add the same code to all of those as well ... not very efficient. To solve this, let's create a decorator called `add` which increments `x` by 1 before and after the main function `f` executes.\n",
        "\n",
        "The decorator function accepts a function `f` which is the function we wish to wrap around (in our case, it's `operations`). The output of the decorator is its `wrapper` function which receives the arguments and keyword arguments passed to function `f`.\n",
        "\n",
        "Inside the `wrapper` function, we can extract the input parameters [line 5] passed to function `f` and make any changes we want [line 6]. Then the function `f` is executed [line 7] and then we can make changes to the outputs as well [line 8]. Finally, the `wrapper` function will return some value(s) [line 9] which is what the decorator returns as well since it returns `wrapper`. "
      ]
    },
    {
      "cell_type": "code",
      "metadata": {
        "id": "6Lf7Ixrasiby",
        "colab_type": "code",
        "colab": {}
      },
      "source": [
        "# Decorator\n",
        "def add(f):\n",
        "    def wrapper(*args, **kwargs):\n",
        "        \"\"\"Wrapper function for @add.\"\"\"\n",
        "        x = kwargs.pop('x') # .get() if not altering x\n",
        "        x += 1 # executes before function f\n",
        "        x = f(*args, **kwargs, x=x)\n",
        "        x += 1 # executes after function f\n",
        "        return x\n",
        "    return wrapper"
      ],
      "execution_count": 0,
      "outputs": []
    },
    {
      "cell_type": "markdown",
      "metadata": {
        "id": "uVPWm6yfAmk9",
        "colab_type": "text"
      },
      "source": [
        "We can use this decorator by simply adding it to the top of our main function preceded by the `@` symbol. "
      ]
    },
    {
      "cell_type": "code",
      "metadata": {
        "id": "CY2Vtxv9sih6",
        "colab_type": "code",
        "colab": {}
      },
      "source": [
        "@add\n",
        "def operations(x):\n",
        "    \"\"\"Basic operations.\"\"\"\n",
        "    x += 1\n",
        "    return x"
      ],
      "execution_count": 0,
      "outputs": []
    },
    {
      "cell_type": "code",
      "metadata": {
        "id": "-BhmFvkJsifJ",
        "colab_type": "code",
        "colab": {
          "base_uri": "https://localhost:8080/",
          "height": 35
        },
        "outputId": "5616824b-f597-44b2-e12a-37507975488a"
      },
      "source": [
        "operations(x=1)"
      ],
      "execution_count": 64,
      "outputs": [
        {
          "output_type": "execute_result",
          "data": {
            "text/plain": [
              "4"
            ]
          },
          "metadata": {
            "tags": []
          },
          "execution_count": 64
        }
      ]
    },
    {
      "cell_type": "markdown",
      "metadata": {
        "id": "rX4Ag4ryArQl",
        "colab_type": "text"
      },
      "source": [
        "Suppose we wanted to debug and see what function actually executed with `operations`. "
      ]
    },
    {
      "cell_type": "code",
      "metadata": {
        "id": "LsDkTSz6siZG",
        "colab_type": "code",
        "colab": {
          "base_uri": "https://localhost:8080/",
          "height": 35
        },
        "outputId": "171b1983-52ca-4367-9a20-6071461f3c9e"
      },
      "source": [
        "operations.__name__, operations.__doc__"
      ],
      "execution_count": 65,
      "outputs": [
        {
          "output_type": "execute_result",
          "data": {
            "text/plain": [
              "('wrapper', 'Wrapper function for @add.')"
            ]
          },
          "metadata": {
            "tags": []
          },
          "execution_count": 65
        }
      ]
    },
    {
      "cell_type": "markdown",
      "metadata": {
        "id": "G9Rd1PrjA5d9",
        "colab_type": "text"
      },
      "source": [
        "The function name and docstring are not what we're looking for but it appears this way because the `wrapper` function is what was executed. In order to fix this, Python offers `functools.wraps` which carries the main function's metadata. "
      ]
    },
    {
      "cell_type": "code",
      "metadata": {
        "id": "AtyQ8qb_upnc",
        "colab_type": "code",
        "colab": {}
      },
      "source": [
        "from functools import wraps"
      ],
      "execution_count": 0,
      "outputs": []
    },
    {
      "cell_type": "code",
      "metadata": {
        "id": "ggp95rl4uuKW",
        "colab_type": "code",
        "colab": {}
      },
      "source": [
        "# Decorator\n",
        "def add(f):\n",
        "    @wraps(f)\n",
        "    def wrap(*args, **kwargs):\n",
        "        \"\"\"Wrapper function for @add.\"\"\"\n",
        "        x = kwargs.pop('x') \n",
        "        x += 1\n",
        "        x = f(*args, **kwargs, x=x)\n",
        "        x += 1\n",
        "        return x\n",
        "    return wrap"
      ],
      "execution_count": 0,
      "outputs": []
    },
    {
      "cell_type": "code",
      "metadata": {
        "id": "GvWdFV5XuuPn",
        "colab_type": "code",
        "colab": {}
      },
      "source": [
        "@add\n",
        "def operations(x):\n",
        "    \"\"\"Basic operations.\"\"\"\n",
        "    x += 1\n",
        "    return x"
      ],
      "execution_count": 0,
      "outputs": []
    },
    {
      "cell_type": "code",
      "metadata": {
        "id": "90Za5Wb0uuNl",
        "colab_type": "code",
        "colab": {
          "base_uri": "https://localhost:8080/",
          "height": 35
        },
        "outputId": "ce70b81e-90e4-4019-d3f2-a010c70fb797"
      },
      "source": [
        "operations.__name__, operations.__doc__"
      ],
      "execution_count": 70,
      "outputs": [
        {
          "output_type": "execute_result",
          "data": {
            "text/plain": [
              "('operations', 'Basic operations.')"
            ]
          },
          "metadata": {
            "tags": []
          },
          "execution_count": 70
        }
      ]
    },
    {
      "cell_type": "markdown",
      "metadata": {
        "id": "aDR_uPXHBiIR",
        "colab_type": "text"
      },
      "source": [
        "Awesome! We were able to decorate our main function `operation` to achieve the customization we wanted without actually altering the function. We can reuse our decorator for other functions that may need the same customization!\n",
        "\n",
        "This was a dummy example to show how decorators work but we'll be using them heavily during our production ML lessons. A simple scenario would be using decorators to create uniform JSON responses from each API endpoint without including the bulky code in each endpoint."
      ]
    },
    {
      "cell_type": "markdown",
      "metadata": {
        "id": "__HvzfLUB_qK",
        "colab_type": "text"
      },
      "source": [
        "# Callbacks"
      ]
    },
    {
      "cell_type": "markdown",
      "metadata": {
        "id": "46RnJdMZCDT3",
        "colab_type": "text"
      },
      "source": [
        "Decorators allow for customized operations before and after the main function's execution but what about in between? Suppose we want to conditionally/situationally do some operations. Instead of writing a whole bunch of if-statements and make our functions bulky, we can use callbacks!\n",
        "\n",
        "*   **callbacks**: conditional/situational processing within the function."
      ]
    },
    {
      "cell_type": "markdown",
      "metadata": {
        "id": "_QEMtyB3FK34",
        "colab_type": "text"
      },
      "source": [
        "Our callbacks will be classes that have functions with key names that will execute at various periods during the main function's execution. The function names are up to us but we need to invoke the same callback functions within our main function."
      ]
    },
    {
      "cell_type": "code",
      "metadata": {
        "id": "YUfpcY11uplW",
        "colab_type": "code",
        "colab": {}
      },
      "source": [
        "# Callback\n",
        "class x_tracker(object):\n",
        "    def __init__(self, x):\n",
        "        self.history = []\n",
        "    def at_start(self, x):\n",
        "        self.history.append(x)\n",
        "    def at_end(self, x):\n",
        "        self.history.append(x)"
      ],
      "execution_count": 0,
      "outputs": []
    },
    {
      "cell_type": "markdown",
      "metadata": {
        "id": "9hphXr9hC0Us",
        "colab_type": "text"
      },
      "source": [
        "We can pass in as many callbacks as we want and because they have appropriately named functions, they will be invoked at the appropriate times. "
      ]
    },
    {
      "cell_type": "code",
      "metadata": {
        "id": "F3XFote_CzlA",
        "colab_type": "code",
        "colab": {}
      },
      "source": [
        "def operations(x, callbacks=[]):\n",
        "    \"\"\"Basic operations.\"\"\"\n",
        "    for callback in callbacks:\n",
        "        callback.at_start(x)\n",
        "    x += 1\n",
        "    for callback in callbacks:\n",
        "        callback.at_end(x)\n",
        "    return x"
      ],
      "execution_count": 0,
      "outputs": []
    },
    {
      "cell_type": "code",
      "metadata": {
        "id": "d_QV5MZNDILI",
        "colab_type": "code",
        "colab": {
          "base_uri": "https://localhost:8080/",
          "height": 35
        },
        "outputId": "f8674682-c791-449d-8879-b72cfb600807"
      },
      "source": [
        "x = 1\n",
        "tracker = x_tracker(x=x)\n",
        "operations(x=x, callbacks=[tracker])"
      ],
      "execution_count": 73,
      "outputs": [
        {
          "output_type": "execute_result",
          "data": {
            "text/plain": [
              "2"
            ]
          },
          "metadata": {
            "tags": []
          },
          "execution_count": 73
        }
      ]
    },
    {
      "cell_type": "code",
      "metadata": {
        "id": "j0RZ90HoDMbx",
        "colab_type": "code",
        "colab": {
          "base_uri": "https://localhost:8080/",
          "height": 35
        },
        "outputId": "8212c0a4-c441-4e1e-c0bd-dc4606d6b5c8"
      },
      "source": [
        "tracker.history"
      ],
      "execution_count": 74,
      "outputs": [
        {
          "output_type": "execute_result",
          "data": {
            "text/plain": [
              "[1, 2]"
            ]
          },
          "metadata": {
            "tags": []
          },
          "execution_count": 74
        }
      ]
    },
    {
      "cell_type": "markdown",
      "metadata": {
        "id": "ET1f4aleDYWZ",
        "colab_type": "text"
      },
      "source": [
        "# Putting it all together"
      ]
    },
    {
      "cell_type": "markdown",
      "metadata": {
        "id": "V52b86DxDbux",
        "colab_type": "text"
      },
      "source": [
        "<u>decorators + callbacks</u> = powerful customization *before*, *during* and *after* the main function’s execution without increasing its complexity. We will be using this duo to create powerful ML training scripts that are highly customizable in future lessons.\n",
        "\n",
        "<div align=\"left\">\n",
        "<img src=\"https://raw.githubusercontent.com/practicalAI/images/master/images/01_Python/decorators.png\" width=\"350\">\n",
        "</div>"
      ]
    },
    {
      "cell_type": "code",
      "metadata": {
        "id": "BEeYY6QHEsE-",
        "colab_type": "code",
        "colab": {}
      },
      "source": [
        "from functools import wraps"
      ],
      "execution_count": 0,
      "outputs": []
    },
    {
      "cell_type": "code",
      "metadata": {
        "id": "NPcjeVOkEsLC",
        "colab_type": "code",
        "colab": {}
      },
      "source": [
        "# Decorator\n",
        "def add(f):\n",
        "    @wraps(f)\n",
        "    def wrap(*args, **kwargs):\n",
        "        \"\"\"Wrapper function for @add.\"\"\"\n",
        "        x = kwargs.pop('x') # .get() if not altering x\n",
        "        x += 1 # executes before function f\n",
        "        x = f(*args, **kwargs, x=x)\n",
        "        # can do things post function f as well\n",
        "        return x\n",
        "    return wrap"
      ],
      "execution_count": 0,
      "outputs": []
    },
    {
      "cell_type": "code",
      "metadata": {
        "id": "rBPVInWfEsIk",
        "colab_type": "code",
        "colab": {}
      },
      "source": [
        "# Callback\n",
        "class x_tracker(object):\n",
        "    def __init__(self, x):\n",
        "        self.history = [x]\n",
        "    def at_start(self, x):\n",
        "        self.history.append(x)\n",
        "    def at_end(self, x):\n",
        "        self.history.append(x)"
      ],
      "execution_count": 0,
      "outputs": []
    },
    {
      "cell_type": "code",
      "metadata": {
        "id": "Px0vMT9gFcyp",
        "colab_type": "code",
        "colab": {}
      },
      "source": [
        "# Main function\n",
        "@add\n",
        "def operations(x, callbacks=[]):\n",
        "    \"\"\"Basic operations.\"\"\"\n",
        "    for callback in callbacks:\n",
        "        callback.at_start(x)\n",
        "    x += 1\n",
        "    for callback in callbacks:\n",
        "        callback.at_end(x)\n",
        "    return x"
      ],
      "execution_count": 0,
      "outputs": []
    },
    {
      "cell_type": "code",
      "metadata": {
        "id": "0AhGDNPWFc4i",
        "colab_type": "code",
        "colab": {
          "base_uri": "https://localhost:8080/",
          "height": 35
        },
        "outputId": "13aec1a3-dea3-4739-be91-fab34062fd58"
      },
      "source": [
        "x = 1\n",
        "tracker = x_tracker(x=x)\n",
        "operations(x=x, callbacks=[tracker])"
      ],
      "execution_count": 79,
      "outputs": [
        {
          "output_type": "execute_result",
          "data": {
            "text/plain": [
              "3"
            ]
          },
          "metadata": {
            "tags": []
          },
          "execution_count": 79
        }
      ]
    },
    {
      "cell_type": "code",
      "metadata": {
        "id": "ajyUN2y0Fc2E",
        "colab_type": "code",
        "colab": {
          "base_uri": "https://localhost:8080/",
          "height": 35
        },
        "outputId": "d383f537-d57a-4a52-abda-646e3a94ec2a"
      },
      "source": [
        "tracker.history"
      ],
      "execution_count": 80,
      "outputs": [
        {
          "output_type": "execute_result",
          "data": {
            "text/plain": [
              "[1, 2, 3]"
            ]
          },
          "metadata": {
            "tags": []
          },
          "execution_count": 80
        }
      ]
    },
    {
      "cell_type": "markdown",
      "metadata": {
        "id": "kiWtd0aJtNtY",
        "colab_type": "text"
      },
      "source": [
        "# Additional resources"
      ]
    },
    {
      "cell_type": "markdown",
      "metadata": {
        "id": "cfLF4ktmtSC3",
        "colab_type": "text"
      },
      "source": [
        "* **Python 3**: This was a very quick look at Python but it's good enough for practical machine learning and we'll be learning more in future lessons. If you want to learn more, check out this [free Python3 course](https://www.w3schools.com/python/default.asp)."
      ]
    },
    {
      "cell_type": "markdown",
      "metadata": {
        "id": "wSaDuURFBGKN",
        "colab_type": "text"
      },
      "source": [
        "---\n",
        "<div align=\"center\">\n",
        "\n",
        "Subscribe to our [newsletter](https://practicalai.me/#newsletter) and follow us on social media to get the latest updates!\n",
        "\n",
        "<a class=\"ai-header-badge\" target=\"_blank\" href=\"https://github.com/GokuMohandas/practicalAI\"><img src=\"https://img.shields.io/github/stars/GokuMohandas/practicalAI.svg?style=social&label=Star\"></a>&nbsp;&nbsp;\n",
        "<a class=\"ai-header-badge\" target=\"_blank\" href=\"https://www.linkedin.com/company/practicalai-me\"><img src=\"https://img.shields.io/badge/style--5eba00.svg?label=LinkedIn&logo=linkedin&style=social\"></a>&nbsp;&nbsp;\n",
        "<a class=\"ai-header-badge\" target=\"_blank\" href=\"https://twitter.com/GokuMohandas\"><img src=\"https://img.shields.io/twitter/follow/GokuMohandas.svg?label=Follow&style=social\"></a>&nbsp;&nbsp;\n",
        "\n",
        "</div>"
      ]
    }
  ]
}