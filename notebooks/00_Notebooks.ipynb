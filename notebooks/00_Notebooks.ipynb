{
  "nbformat": 4,
  "nbformat_minor": 0,
  "metadata": {
    "colab": {
      "name": "00_Notebooks",
      "provenance": [],
      "collapsed_sections": [],
      "toc_visible": true
    },
    "kernelspec": {
      "name": "python3",
      "display_name": "Python 3"
    }
  },
  "cells": [
    {
      "cell_type": "markdown",
      "metadata": {
        "id": "pa5_r2M_ZzLG",
        "colab_type": "text"
      },
      "source": [
        "<a href=\"https://practicalai.me\"><img src=\"https://raw.githubusercontent.com/practicalAI/practicalAI/master/images/practicalai_header_logo.png\" align=\"left\" hspace=\"20px\" vspace=\"5px\"></a>\n",
        "\n",
        "<img src=\"https://raw.githubusercontent.com/practicalAI/practicalAI/master/images/colab.png\" width=170 align=\"right\">\n",
        "\n",
        "<h1>Notebook Basics</h1>\n",
        "\n",
        "In this lesson we will learn how to work with the **notebooks**. Notebooks are a great medium to visualize programming. We will use these notebooks to code in Python and learn the basics of machine learning."
      ]
    },
    {
      "cell_type": "markdown",
      "metadata": {
        "id": "orR8HhgnPY1U",
        "colab_type": "text"
      },
      "source": [
        "<table align=\"left\">\n",
        "  <td>\n",
        "      <img src=\"https://raw.githubusercontent.com/practicalAI/practicalAI/master/images/practicalai_small_logo.png\">\n",
        "      <a target=\"_blank\" href=\"https://practicalai.me\">View on practicalAI</a>\n",
        "  </td>\n",
        "  <td>\n",
        "    <img src=\"https://raw.githubusercontent.com/practicalAI/practicalAI/master/images/colab_logo.png\" height=\"25\" />\n",
        "    <a target=\"_blank\" href=\"https://colab.research.google.com/github/practicalAI/practicalAI/blob/master/notebooks/00_Notebooks.ipynb\">Run in Google Colab</a>\n",
        "  </td>\n",
        "  <td>\n",
        "    <img src=\"https://raw.githubusercontent.com/practicalAI/practicalAI/master/images/github_logo.png\" height=\"20\" />\n",
        "    <a target=\"_blank\" href=\"https://github.com/practicalAI/practicalAI/blob/master/notebooks/00_Notebooks.ipynb\">View code on GitHub</a>\n",
        "  </td>\n",
        "</table>"
      ]
    },
    {
      "cell_type": "markdown",
      "metadata": {
        "id": "-Nsq7J22UOGO",
        "colab_type": "text"
      },
      "source": [
        "# Set Up"
      ]
    },
    {
      "cell_type": "markdown",
      "metadata": {
        "id": "Re6q2zNfUGJw",
        "colab_type": "text"
      },
      "source": [
        "1. Sign into your [Google](https://accounts.google.com/signin) account to start using the notebook.\n",
        "2. If you want to save your work, click the **COPY TO DRIVE** button on the toolbar. This will open the notebook in a new tab.\n",
        "3. Rename this new notebook by removing the words `Copy of` from the title (change \"`Copy of 00_Notebooks`\" to \"`00_Notebooks`\").\n",
        "4. Now you can run the code, make changes and it's all saved to your personal Google Drive.\n"
      ]
    },
    {
      "cell_type": "markdown",
      "metadata": {
        "id": "cOEaLCZAu4JQ",
        "colab_type": "text"
      },
      "source": [
        "# Types of cells"
      ]
    },
    {
      "cell_type": "markdown",
      "metadata": {
        "id": "WcOgqq5xvtMn",
        "colab_type": "text"
      },
      "source": [
        "Notebooks are made up of cells. Each cell can either be a **code cell** or a **text cell**. \n",
        "\n",
        "*   **code cell**: used for writing and executing code.\n",
        "*   **text cell**: used for writing text/html.\n",
        "\n",
        "\n"
      ]
    },
    {
      "cell_type": "markdown",
      "metadata": {
        "id": "tBVFofpLutnn",
        "colab_type": "text"
      },
      "source": [
        "# Creating cells"
      ]
    },
    {
      "cell_type": "markdown",
      "metadata": {
        "id": "CfSTXDx9LClf",
        "colab_type": "text"
      },
      "source": [
        "To create a cell at a particular location, click on the desired location in the notebook and create a text cell by clicking on the **➕TEXT** (located in the top left corner). Once you create the cell, click on it and type the following inside it:\n",
        "\n",
        "\n",
        "```\n",
        "### This is a header\n",
        "Hello world!\n",
        "```"
      ]
    },
    {
      "cell_type": "markdown",
      "metadata": {
        "id": "iXYgZpgpYS3N",
        "colab_type": "text"
      },
      "source": [
        "# Running cells"
      ]
    },
    {
      "cell_type": "markdown",
      "metadata": {
        "id": "8og2NZxaO7Nj",
        "colab_type": "text"
      },
      "source": [
        "Once you type inside the cell, press the **SHIFT** and **RETURN** (enter key) together to run the cell."
      ]
    },
    {
      "cell_type": "markdown",
      "metadata": {
        "id": "WKTbiBuvYexD",
        "colab_type": "text"
      },
      "source": [
        "# Editing cells"
      ]
    },
    {
      "cell_type": "markdown",
      "metadata": {
        "id": "J_kM3zBEO9Zp",
        "colab_type": "text"
      },
      "source": [
        "To edit a cell, double click on it and you can edit it."
      ]
    },
    {
      "cell_type": "markdown",
      "metadata": {
        "id": "Jv0ZSuhNYVIU",
        "colab_type": "text"
      },
      "source": [
        "# Moving cells"
      ]
    },
    {
      "cell_type": "markdown",
      "metadata": {
        "id": "pv3XtKpLPAY6",
        "colab_type": "text"
      },
      "source": [
        "Once you create the cell, you can move it up and down by clicking on the sell and then pressig the ⬆️ and ⬇️ button on the top right of the cell. "
      ]
    },
    {
      "cell_type": "markdown",
      "metadata": {
        "id": "B_VGiYf8YXiU",
        "colab_type": "text"
      },
      "source": [
        "# Deleting cells"
      ]
    },
    {
      "cell_type": "markdown",
      "metadata": {
        "colab_type": "text",
        "id": "vKrqxJEmTfQU"
      },
      "source": [
        "You can delete the cell by clicking on it and pressing the trash can button 🗑️ on the top right corner of the cell. Alternatively, you can also press ⌘/Ctrl + M + D."
      ]
    },
    {
      "cell_type": "markdown",
      "metadata": {
        "id": "hxl7Fk8LVQmR",
        "colab_type": "text"
      },
      "source": [
        "# Creating a code cell\n"
      ]
    },
    {
      "cell_type": "markdown",
      "metadata": {
        "id": "lnvxXte0PB0p",
        "colab_type": "text"
      },
      "source": [
        "You can repeat the steps above to create, edit and delete a *code* cell. You can create a code cell by clicking on the ➕CODE (located in the top left corner). Once you have created the cell, click on it and type the following inside it:"
      ]
    },
    {
      "cell_type": "code",
      "metadata": {
        "id": "DfGf9KmQ3DJM",
        "colab_type": "code",
        "outputId": "da662be8-6ef9-458f-b5d0-1bcb04deece0",
        "colab": {
          "base_uri": "https://localhost:8080/",
          "height": 34
        }
      },
      "source": [
        "print (\"Hello world!\")"
      ],
      "execution_count": 0,
      "outputs": [
        {
          "output_type": "stream",
          "text": [
            "Hello world!\n"
          ],
          "name": "stdout"
        }
      ]
    },
    {
      "cell_type": "markdown",
      "metadata": {
        "id": "9ypRW8RiVZpW",
        "colab_type": "text"
      },
      "source": [
        "---\n",
        "<br>\n",
        "\n",
        "Subscribe to our [newsletter](https://practicalai.me/#newsletter) and follow us on social media to get the latest updates! <br><div><a class=\"ai-header-badge\" target=\"_blank\" href=\"https://github.com/GokuMohandas/practicalAI\">\n",
        "              <img src=\"https://img.shields.io/github/stars/GokuMohandas/practicalAI.svg?style=social&label=Star\">\n",
        "            </a>&nbsp;\n",
        "            <a class=\"ai-header-badge\" target=\"_blank\" href=\"https://www.youtube.com/channel/UCgW4K2UDK21kHIzxpjNos7Q\">\n",
        "              <img src=\"https://img.shields.io/badge/style--5eba00.svg?label=Subscribe&logo=youtube&style=social\">\n",
        "            </a>&nbsp;\n",
        "            <a class=\"ai-header-badge\" target=\"_blank\" href=\"https://twitter.com/GokuMohandas\">\n",
        "              <img src=\"https://img.shields.io/twitter/follow/GokuMohandas.svg?label=Follow&style=social\">\n",
        "            </a>&nbsp;\n",
        "            <a class=\"ai-header-badge\" target=\"_blank\" href=\"https://www.linkedin.com/company/practicalai-me\">\n",
        "              <img src=\"https://img.shields.io/badge/style--5eba00.svg?label=LinkedIn&logo=linkedin&style=social\"></a>\n",
        "              </div>"
      ]
    }
  ]
}